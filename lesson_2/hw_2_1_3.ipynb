{
 "cells": [
  {
   "cell_type": "markdown",
   "id": "0a9f8d3b",
   "metadata": {},
   "source": [
    "### Задание 3\n",
    "\n",
    "Найдите скалярное произведение столбцов массива a_centered. В результате должна получиться величина a_centered_sp. Затем поделите a_centered_sp на N-1, где N - число наблюдений."
   ]
  },
  {
   "cell_type": "code",
   "execution_count": 5,
   "id": "0a31d46b",
   "metadata": {},
   "outputs": [
    {
     "name": "stdout",
     "output_type": "stream",
     "text": [
      "[[-1.  -2.4]\n",
      " [ 0.  -0.4]\n",
      " [ 1.   2.6]\n",
      " [ 1.   1.6]\n",
      " [-1.  -1.4]]\n"
     ]
    }
   ],
   "source": [
    "import numpy as np\n",
    "\n",
    "a = np.array([[1,  6],\n",
    "              [2,  8],\n",
    "              [3, 11],\n",
    "              [3, 10],\n",
    "              [1,  7]])\n",
    "\n",
    "mean_a = a.mean(axis=0)\n",
    "\n",
    "a_centered = a - mean_a\n",
    "\n",
    "print(a_centered)"
   ]
  },
  {
   "cell_type": "code",
   "execution_count": 6,
   "id": "327390df",
   "metadata": {},
   "outputs": [
    {
     "name": "stdout",
     "output_type": "stream",
     "text": [
      "8.0\n"
     ]
    }
   ],
   "source": [
    "a_centered_sp = a_centered[:,0] @ a_centered[:,1]\n",
    "\n",
    "print(a_centered_sp)"
   ]
  },
  {
   "cell_type": "code",
   "execution_count": 7,
   "id": "3b3ed253",
   "metadata": {},
   "outputs": [
    {
     "name": "stdout",
     "output_type": "stream",
     "text": [
      "2.0\n"
     ]
    }
   ],
   "source": [
    "N = 5\n",
    "\n",
    "print(a_centered_sp / (N - 1))"
   ]
  }
 ],
 "metadata": {
  "kernelspec": {
   "display_name": "Python 3 (ipykernel)",
   "language": "python",
   "name": "python3"
  },
  "language_info": {
   "codemirror_mode": {
    "name": "ipython",
    "version": 3
   },
   "file_extension": ".py",
   "mimetype": "text/x-python",
   "name": "python",
   "nbconvert_exporter": "python",
   "pygments_lexer": "ipython3",
   "version": "3.9.7"
  }
 },
 "nbformat": 4,
 "nbformat_minor": 5
}
