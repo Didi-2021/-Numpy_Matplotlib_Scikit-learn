{
 "cells": [
  {
   "cell_type": "markdown",
   "id": "c50f4704",
   "metadata": {
    "papermill": {
     "duration": 0.079449,
     "end_time": "2021-11-02T18:57:36.017375",
     "exception": false,
     "start_time": "2021-11-02T18:57:35.937926",
     "status": "completed"
    },
    "tags": []
   },
   "source": [
    "**Подключение библиотек и скриптов**"
   ]
  },
  {
   "cell_type": "code",
   "execution_count": 1,
   "id": "9395bdba",
   "metadata": {},
   "outputs": [],
   "source": [
    "import numpy as np\n",
    "import pandas as pd\n",
    "import random\n",
    "\n",
    "from sklearn.model_selection import train_test_split, cross_val_score\n",
    "from sklearn.preprocessing import StandardScaler, RobustScaler\n",
    "from sklearn.ensemble import RandomForestRegressor\n",
    "from sklearn.metrics import r2_score as r2\n",
    "from sklearn.model_selection import KFold, GridSearchCV\n",
    "\n",
    "from datetime import datetime\n",
    "\n",
    "import matplotlib.pyplot as plt\n",
    "import seaborn as sns\n",
    "%matplotlib inline"
   ]
  },
  {
   "cell_type": "code",
   "execution_count": 2,
   "id": "05743860",
   "metadata": {
    "execution": {
     "iopub.execute_input": "2021-11-02T18:57:37.864294Z",
     "iopub.status.busy": "2021-11-02T18:57:37.863206Z",
     "iopub.status.idle": "2021-11-02T18:57:37.867783Z",
     "shell.execute_reply": "2021-11-02T18:57:37.868487Z",
     "shell.execute_reply.started": "2021-11-02T18:55:57.526911Z"
    },
    "papermill": {
     "duration": 0.086685,
     "end_time": "2021-11-02T18:57:37.868639",
     "exception": false,
     "start_time": "2021-11-02T18:57:37.781954",
     "status": "completed"
    },
    "tags": []
   },
   "outputs": [],
   "source": [
    "import warnings\n",
    "warnings.filterwarnings('ignore')"
   ]
  },
  {
   "cell_type": "code",
   "execution_count": 3,
   "id": "0a42c20d",
   "metadata": {},
   "outputs": [],
   "source": [
    "def evaluate_preds(train_true_values, train_pred_values, test_true_values, test_pred_values):\n",
    "    print(\"Train R2:\\t\" + str(round(r2(train_true_values, train_pred_values), 3)))\n",
    "    print(\"Test R2:\\t\" + str(round(r2(test_true_values, test_pred_values), 3)))\n",
    "    \n",
    "    plt.figure(figsize=(18,10))\n",
    "    \n",
    "    plt.subplot(121)\n",
    "    sns.scatterplot(x=train_pred_values, y=train_true_values)\n",
    "    plt.xlabel('Predicted values')\n",
    "    plt.ylabel('True values')\n",
    "    plt.title('Train sample prediction')\n",
    "    \n",
    "    plt.subplot(122)\n",
    "    sns.scatterplot(x=test_pred_values, y=test_true_values)\n",
    "    plt.xlabel('Predicted values')\n",
    "    plt.ylabel('True values')\n",
    "    plt.title('Test sample prediction')\n",
    "\n",
    "    plt.show()"
   ]
  },
  {
   "cell_type": "markdown",
   "id": "957f559f",
   "metadata": {},
   "source": [
    "**Пути к директориям и файлам**"
   ]
  },
  {
   "cell_type": "code",
   "execution_count": 4,
   "id": "b343522c",
   "metadata": {},
   "outputs": [],
   "source": [
    "TRAIN_DATASET_PATH = './dataset-real-estate-price-prediction-moscow/train.csv'\n",
    "TEST_DATASET_PATH = './dataset-real-estate-price-prediction-moscow/test.csv'"
   ]
  },
  {
   "cell_type": "markdown",
   "id": "b63aeb45",
   "metadata": {
    "papermill": {
     "duration": 0.080694,
     "end_time": "2021-11-02T18:57:38.696555",
     "exception": false,
     "start_time": "2021-11-02T18:57:38.615861",
     "status": "completed"
    },
    "tags": []
   },
   "source": [
    "### Загрузка данных <a class='anchor' id='load'>"
   ]
  },
  {
   "cell_type": "markdown",
   "id": "eb9359a6",
   "metadata": {
    "papermill": {
     "duration": 0.0894,
     "end_time": "2021-11-02T18:57:38.887286",
     "exception": false,
     "start_time": "2021-11-02T18:57:38.797886",
     "status": "completed"
    },
    "tags": []
   },
   "source": [
    "**Описание датасета**\n",
    "\n",
    "* **Id** - идентификационный номер квартиры\n",
    "* **DistrictId** - идентификационный номер района\n",
    "* **Rooms** - количество комнат\n",
    "* **Square** - площадь\n",
    "* **LifeSquare** - жилая площадь\n",
    "* **KitchenSquare** - площадь кухни\n",
    "* **Floor** - этаж\n",
    "* **HouseFloor** - количество этажей в доме\n",
    "* **HouseYear** - год постройки дома\n",
    "* **Ecology_1, Ecology_2, Ecology_3** - экологические показатели местности\n",
    "* **Social_1, Social_2, Social_3** - социальные показатели местности\n",
    "* **Healthcare_1, Helthcare_2** - показатели местности, связанные с охраной здоровья\n",
    "* **Shops_1, Shops_2** - показатели, связанные с наличием магазинов, торговых центров\n",
    "* **Price** - цена квартиры"
   ]
  },
  {
   "cell_type": "code",
   "execution_count": 5,
   "id": "f61ae29e",
   "metadata": {},
   "outputs": [],
   "source": [
    "train_df = pd.read_csv(TRAIN_DATASET_PATH)\n",
    "test_df = pd.read_csv(TEST_DATASET_PATH)"
   ]
  },
  {
   "cell_type": "code",
   "execution_count": 6,
   "id": "b5c103b7",
   "metadata": {
    "scrolled": true
   },
   "outputs": [
    {
     "data": {
      "text/plain": [
       "True"
      ]
     },
     "execution_count": 6,
     "metadata": {},
     "output_type": "execute_result"
    }
   ],
   "source": [
    "# Проверка размерности\n",
    "train_df.shape[1] - 1 == test_df.shape[1]"
   ]
  },
  {
   "cell_type": "code",
   "execution_count": 7,
   "id": "4dc8023b",
   "metadata": {},
   "outputs": [
    {
     "data": {
      "text/html": [
       "<div>\n",
       "<style scoped>\n",
       "    .dataframe tbody tr th:only-of-type {\n",
       "        vertical-align: middle;\n",
       "    }\n",
       "\n",
       "    .dataframe tbody tr th {\n",
       "        vertical-align: top;\n",
       "    }\n",
       "\n",
       "    .dataframe thead th {\n",
       "        text-align: right;\n",
       "    }\n",
       "</style>\n",
       "<table border=\"1\" class=\"dataframe\">\n",
       "  <thead>\n",
       "    <tr style=\"text-align: right;\">\n",
       "      <th></th>\n",
       "      <th>Id</th>\n",
       "      <th>DistrictId</th>\n",
       "      <th>Rooms</th>\n",
       "      <th>Square</th>\n",
       "      <th>LifeSquare</th>\n",
       "      <th>KitchenSquare</th>\n",
       "      <th>Floor</th>\n",
       "      <th>HouseFloor</th>\n",
       "      <th>HouseYear</th>\n",
       "      <th>Ecology_1</th>\n",
       "      <th>Ecology_2</th>\n",
       "      <th>Ecology_3</th>\n",
       "      <th>Social_1</th>\n",
       "      <th>Social_2</th>\n",
       "      <th>Social_3</th>\n",
       "      <th>Healthcare_1</th>\n",
       "      <th>Helthcare_2</th>\n",
       "      <th>Shops_1</th>\n",
       "      <th>Shops_2</th>\n",
       "      <th>Price</th>\n",
       "    </tr>\n",
       "  </thead>\n",
       "  <tbody>\n",
       "    <tr>\n",
       "      <th>0</th>\n",
       "      <td>11809</td>\n",
       "      <td>27</td>\n",
       "      <td>3.0</td>\n",
       "      <td>115.027311</td>\n",
       "      <td>NaN</td>\n",
       "      <td>10.0</td>\n",
       "      <td>4</td>\n",
       "      <td>10.0</td>\n",
       "      <td>2014</td>\n",
       "      <td>0.075424</td>\n",
       "      <td>B</td>\n",
       "      <td>B</td>\n",
       "      <td>11</td>\n",
       "      <td>3097</td>\n",
       "      <td>0</td>\n",
       "      <td>NaN</td>\n",
       "      <td>0</td>\n",
       "      <td>0</td>\n",
       "      <td>B</td>\n",
       "      <td>305018.871089</td>\n",
       "    </tr>\n",
       "    <tr>\n",
       "      <th>1</th>\n",
       "      <td>3013</td>\n",
       "      <td>22</td>\n",
       "      <td>1.0</td>\n",
       "      <td>39.832524</td>\n",
       "      <td>23.169223</td>\n",
       "      <td>8.0</td>\n",
       "      <td>7</td>\n",
       "      <td>8.0</td>\n",
       "      <td>1966</td>\n",
       "      <td>0.118537</td>\n",
       "      <td>B</td>\n",
       "      <td>B</td>\n",
       "      <td>30</td>\n",
       "      <td>6207</td>\n",
       "      <td>1</td>\n",
       "      <td>1183.0</td>\n",
       "      <td>1</td>\n",
       "      <td>0</td>\n",
       "      <td>B</td>\n",
       "      <td>177734.553407</td>\n",
       "    </tr>\n",
       "    <tr>\n",
       "      <th>2</th>\n",
       "      <td>8215</td>\n",
       "      <td>1</td>\n",
       "      <td>3.0</td>\n",
       "      <td>78.342215</td>\n",
       "      <td>47.671972</td>\n",
       "      <td>10.0</td>\n",
       "      <td>2</td>\n",
       "      <td>17.0</td>\n",
       "      <td>1988</td>\n",
       "      <td>0.025609</td>\n",
       "      <td>B</td>\n",
       "      <td>B</td>\n",
       "      <td>33</td>\n",
       "      <td>5261</td>\n",
       "      <td>0</td>\n",
       "      <td>240.0</td>\n",
       "      <td>3</td>\n",
       "      <td>1</td>\n",
       "      <td>B</td>\n",
       "      <td>282078.720850</td>\n",
       "    </tr>\n",
       "    <tr>\n",
       "      <th>3</th>\n",
       "      <td>2352</td>\n",
       "      <td>1</td>\n",
       "      <td>1.0</td>\n",
       "      <td>40.409907</td>\n",
       "      <td>NaN</td>\n",
       "      <td>1.0</td>\n",
       "      <td>10</td>\n",
       "      <td>22.0</td>\n",
       "      <td>1977</td>\n",
       "      <td>0.007122</td>\n",
       "      <td>B</td>\n",
       "      <td>B</td>\n",
       "      <td>1</td>\n",
       "      <td>264</td>\n",
       "      <td>0</td>\n",
       "      <td>NaN</td>\n",
       "      <td>0</td>\n",
       "      <td>1</td>\n",
       "      <td>B</td>\n",
       "      <td>168106.007630</td>\n",
       "    </tr>\n",
       "    <tr>\n",
       "      <th>4</th>\n",
       "      <td>13866</td>\n",
       "      <td>94</td>\n",
       "      <td>2.0</td>\n",
       "      <td>64.285067</td>\n",
       "      <td>38.562517</td>\n",
       "      <td>9.0</td>\n",
       "      <td>16</td>\n",
       "      <td>16.0</td>\n",
       "      <td>1972</td>\n",
       "      <td>0.282798</td>\n",
       "      <td>B</td>\n",
       "      <td>B</td>\n",
       "      <td>33</td>\n",
       "      <td>8667</td>\n",
       "      <td>2</td>\n",
       "      <td>NaN</td>\n",
       "      <td>0</td>\n",
       "      <td>6</td>\n",
       "      <td>B</td>\n",
       "      <td>343995.102962</td>\n",
       "    </tr>\n",
       "  </tbody>\n",
       "</table>\n",
       "</div>"
      ],
      "text/plain": [
       "      Id  DistrictId  Rooms      Square  LifeSquare  KitchenSquare  Floor  \\\n",
       "0  11809          27    3.0  115.027311         NaN           10.0      4   \n",
       "1   3013          22    1.0   39.832524   23.169223            8.0      7   \n",
       "2   8215           1    3.0   78.342215   47.671972           10.0      2   \n",
       "3   2352           1    1.0   40.409907         NaN            1.0     10   \n",
       "4  13866          94    2.0   64.285067   38.562517            9.0     16   \n",
       "\n",
       "   HouseFloor  HouseYear  Ecology_1 Ecology_2 Ecology_3  Social_1  Social_2  \\\n",
       "0        10.0       2014   0.075424         B         B        11      3097   \n",
       "1         8.0       1966   0.118537         B         B        30      6207   \n",
       "2        17.0       1988   0.025609         B         B        33      5261   \n",
       "3        22.0       1977   0.007122         B         B         1       264   \n",
       "4        16.0       1972   0.282798         B         B        33      8667   \n",
       "\n",
       "   Social_3  Healthcare_1  Helthcare_2  Shops_1 Shops_2          Price  \n",
       "0         0           NaN            0        0       B  305018.871089  \n",
       "1         1        1183.0            1        0       B  177734.553407  \n",
       "2         0         240.0            3        1       B  282078.720850  \n",
       "3         0           NaN            0        1       B  168106.007630  \n",
       "4         2           NaN            0        6       B  343995.102962  "
      ]
     },
     "execution_count": 7,
     "metadata": {},
     "output_type": "execute_result"
    }
   ],
   "source": [
    "train_df.head()"
   ]
  },
  {
   "cell_type": "code",
   "execution_count": 8,
   "id": "52297ac0",
   "metadata": {},
   "outputs": [
    {
     "data": {
      "text/html": [
       "<div>\n",
       "<style scoped>\n",
       "    .dataframe tbody tr th:only-of-type {\n",
       "        vertical-align: middle;\n",
       "    }\n",
       "\n",
       "    .dataframe tbody tr th {\n",
       "        vertical-align: top;\n",
       "    }\n",
       "\n",
       "    .dataframe thead th {\n",
       "        text-align: right;\n",
       "    }\n",
       "</style>\n",
       "<table border=\"1\" class=\"dataframe\">\n",
       "  <thead>\n",
       "    <tr style=\"text-align: right;\">\n",
       "      <th></th>\n",
       "      <th>Id</th>\n",
       "      <th>DistrictId</th>\n",
       "      <th>Rooms</th>\n",
       "      <th>Square</th>\n",
       "      <th>LifeSquare</th>\n",
       "      <th>KitchenSquare</th>\n",
       "      <th>Floor</th>\n",
       "      <th>HouseFloor</th>\n",
       "      <th>HouseYear</th>\n",
       "      <th>Ecology_1</th>\n",
       "      <th>Ecology_2</th>\n",
       "      <th>Ecology_3</th>\n",
       "      <th>Social_1</th>\n",
       "      <th>Social_2</th>\n",
       "      <th>Social_3</th>\n",
       "      <th>Healthcare_1</th>\n",
       "      <th>Helthcare_2</th>\n",
       "      <th>Shops_1</th>\n",
       "      <th>Shops_2</th>\n",
       "    </tr>\n",
       "  </thead>\n",
       "  <tbody>\n",
       "    <tr>\n",
       "      <th>0</th>\n",
       "      <td>4567</td>\n",
       "      <td>44</td>\n",
       "      <td>1.0</td>\n",
       "      <td>36.847630</td>\n",
       "      <td>19.094182</td>\n",
       "      <td>5.0</td>\n",
       "      <td>5</td>\n",
       "      <td>9.0</td>\n",
       "      <td>1970</td>\n",
       "      <td>0.036122</td>\n",
       "      <td>B</td>\n",
       "      <td>B</td>\n",
       "      <td>24</td>\n",
       "      <td>4378</td>\n",
       "      <td>0</td>\n",
       "      <td>1036.0</td>\n",
       "      <td>1</td>\n",
       "      <td>1</td>\n",
       "      <td>B</td>\n",
       "    </tr>\n",
       "    <tr>\n",
       "      <th>1</th>\n",
       "      <td>5925</td>\n",
       "      <td>62</td>\n",
       "      <td>1.0</td>\n",
       "      <td>42.493907</td>\n",
       "      <td>42.568133</td>\n",
       "      <td>10.0</td>\n",
       "      <td>7</td>\n",
       "      <td>17.0</td>\n",
       "      <td>2017</td>\n",
       "      <td>0.072158</td>\n",
       "      <td>B</td>\n",
       "      <td>B</td>\n",
       "      <td>2</td>\n",
       "      <td>629</td>\n",
       "      <td>1</td>\n",
       "      <td>NaN</td>\n",
       "      <td>0</td>\n",
       "      <td>0</td>\n",
       "      <td>A</td>\n",
       "    </tr>\n",
       "    <tr>\n",
       "      <th>2</th>\n",
       "      <td>960</td>\n",
       "      <td>27</td>\n",
       "      <td>2.0</td>\n",
       "      <td>59.463678</td>\n",
       "      <td>NaN</td>\n",
       "      <td>9.0</td>\n",
       "      <td>19</td>\n",
       "      <td>19.0</td>\n",
       "      <td>1977</td>\n",
       "      <td>0.211401</td>\n",
       "      <td>B</td>\n",
       "      <td>B</td>\n",
       "      <td>9</td>\n",
       "      <td>1892</td>\n",
       "      <td>0</td>\n",
       "      <td>NaN</td>\n",
       "      <td>0</td>\n",
       "      <td>1</td>\n",
       "      <td>B</td>\n",
       "    </tr>\n",
       "    <tr>\n",
       "      <th>3</th>\n",
       "      <td>3848</td>\n",
       "      <td>23</td>\n",
       "      <td>3.0</td>\n",
       "      <td>49.646030</td>\n",
       "      <td>33.893825</td>\n",
       "      <td>6.0</td>\n",
       "      <td>2</td>\n",
       "      <td>2.0</td>\n",
       "      <td>1965</td>\n",
       "      <td>0.014073</td>\n",
       "      <td>B</td>\n",
       "      <td>B</td>\n",
       "      <td>2</td>\n",
       "      <td>475</td>\n",
       "      <td>0</td>\n",
       "      <td>NaN</td>\n",
       "      <td>0</td>\n",
       "      <td>0</td>\n",
       "      <td>B</td>\n",
       "    </tr>\n",
       "    <tr>\n",
       "      <th>4</th>\n",
       "      <td>746</td>\n",
       "      <td>74</td>\n",
       "      <td>1.0</td>\n",
       "      <td>53.837056</td>\n",
       "      <td>NaN</td>\n",
       "      <td>1.0</td>\n",
       "      <td>8</td>\n",
       "      <td>17.0</td>\n",
       "      <td>1977</td>\n",
       "      <td>0.309479</td>\n",
       "      <td>B</td>\n",
       "      <td>B</td>\n",
       "      <td>35</td>\n",
       "      <td>7715</td>\n",
       "      <td>4</td>\n",
       "      <td>990.0</td>\n",
       "      <td>0</td>\n",
       "      <td>6</td>\n",
       "      <td>B</td>\n",
       "    </tr>\n",
       "  </tbody>\n",
       "</table>\n",
       "</div>"
      ],
      "text/plain": [
       "     Id  DistrictId  Rooms     Square  LifeSquare  KitchenSquare  Floor  \\\n",
       "0  4567          44    1.0  36.847630   19.094182            5.0      5   \n",
       "1  5925          62    1.0  42.493907   42.568133           10.0      7   \n",
       "2   960          27    2.0  59.463678         NaN            9.0     19   \n",
       "3  3848          23    3.0  49.646030   33.893825            6.0      2   \n",
       "4   746          74    1.0  53.837056         NaN            1.0      8   \n",
       "\n",
       "   HouseFloor  HouseYear  Ecology_1 Ecology_2 Ecology_3  Social_1  Social_2  \\\n",
       "0         9.0       1970   0.036122         B         B        24      4378   \n",
       "1        17.0       2017   0.072158         B         B         2       629   \n",
       "2        19.0       1977   0.211401         B         B         9      1892   \n",
       "3         2.0       1965   0.014073         B         B         2       475   \n",
       "4        17.0       1977   0.309479         B         B        35      7715   \n",
       "\n",
       "   Social_3  Healthcare_1  Helthcare_2  Shops_1 Shops_2  \n",
       "0         0        1036.0            1        1       B  \n",
       "1         1           NaN            0        0       A  \n",
       "2         0           NaN            0        1       B  \n",
       "3         0           NaN            0        0       B  \n",
       "4         4         990.0            0        6       B  "
      ]
     },
     "execution_count": 8,
     "metadata": {},
     "output_type": "execute_result"
    }
   ],
   "source": [
    "test_df.head()"
   ]
  },
  {
   "cell_type": "markdown",
   "id": "32546c58",
   "metadata": {
    "papermill": {
     "duration": 0.081243,
     "end_time": "2021-11-02T18:57:40.621664",
     "exception": false,
     "start_time": "2021-11-02T18:57:40.540421",
     "status": "completed"
    },
    "tags": []
   },
   "source": [
    "## EDA"
   ]
  },
  {
   "cell_type": "markdown",
   "id": "e0081185",
   "metadata": {
    "papermill": {
     "duration": 0.104822,
     "end_time": "2021-11-02T18:57:40.809096",
     "exception": false,
     "start_time": "2021-11-02T18:57:40.704274",
     "status": "completed"
    },
    "tags": []
   },
   "source": [
    "**Целевая переменная**"
   ]
  },
  {
   "cell_type": "code",
   "execution_count": 9,
   "id": "5602bf19",
   "metadata": {
    "scrolled": false
   },
   "outputs": [
    {
     "data": {
      "image/png": "[encoded data removed]",
      "text/plain": [
       "<Figure size 1152x576 with 1 Axes>"
      ]
     },
     "metadata": {
      "needs_background": "light"
     },
     "output_type": "display_data"
    }
   ],
   "source": [
    "plt.figure(figsize = (16, 8))\n",
    "\n",
    "train_df['Price'].hist(bins=30)\n",
    "plt.ylabel('Count')\n",
    "plt.xlabel('Price')\n",
    "\n",
    "plt.title('Target distribution')\n",
    "plt.show()"
   ]
  },
  {
   "cell_type": "code",
   "execution_count": 10,
   "id": "33db2619",
   "metadata": {},
   "outputs": [
    {
     "data": {
      "image/png": "[encoded data removed]",
      "text/plain": [
       "<Figure size 1152x576 with 1 Axes>"
      ]
     },
     "metadata": {
      "needs_background": "light"
     },
     "output_type": "display_data"
    }
   ],
   "source": [
    "correlation = train_df.corrwith(train_df['Price']).sort_values(ascending=False)\n",
    "correlation.drop('Price', inplace=True)\n",
    "\n",
    "plt.figure(figsize = (16, 8))\n",
    "plt.bar(correlation.index, correlation)\n",
    "plt.xticks(rotation='90')\n",
    "plt.xlabel('Features', fontsize=15)\n",
    "plt.ylabel('Correlation', fontsize=15)\n",
    "plt.title('Feature correlation', fontsize=15)\n",
    "plt.show()"
   ]
  },
  {
   "cell_type": "markdown",
   "id": "3e844ad5",
   "metadata": {
    "papermill": {
     "duration": 0.082652,
     "end_time": "2021-11-02T18:57:41.497315",
     "exception": false,
     "start_time": "2021-11-02T18:57:41.414663",
     "status": "completed"
    },
    "tags": []
   },
   "source": [
    "**Количественные переменные**"
   ]
  },
  {
   "cell_type": "code",
   "execution_count": 11,
   "id": "9a151a10",
   "metadata": {},
   "outputs": [
    {
     "data": {
      "text/plain": [
       "Id                  0\n",
       "DistrictId          0\n",
       "Rooms               0\n",
       "Square              0\n",
       "LifeSquare       2113\n",
       "KitchenSquare       0\n",
       "Floor               0\n",
       "HouseFloor          0\n",
       "HouseYear           0\n",
       "Ecology_1           0\n",
       "Ecology_2           0\n",
       "Ecology_3           0\n",
       "Social_1            0\n",
       "Social_2            0\n",
       "Social_3            0\n",
       "Healthcare_1     4798\n",
       "Helthcare_2         0\n",
       "Shops_1             0\n",
       "Shops_2             0\n",
       "Price               0\n",
       "dtype: int64"
      ]
     },
     "execution_count": 11,
     "metadata": {},
     "output_type": "execute_result"
    }
   ],
   "source": [
    "train_df.isna().sum()"
   ]
  },
  {
   "cell_type": "code",
   "execution_count": 12,
   "id": "64f5fa85",
   "metadata": {
    "scrolled": true
   },
   "outputs": [
    {
     "data": {
      "text/html": [
       "<div>\n",
       "<style scoped>\n",
       "    .dataframe tbody tr th:only-of-type {\n",
       "        vertical-align: middle;\n",
       "    }\n",
       "\n",
       "    .dataframe tbody tr th {\n",
       "        vertical-align: top;\n",
       "    }\n",
       "\n",
       "    .dataframe thead th {\n",
       "        text-align: right;\n",
       "    }\n",
       "</style>\n",
       "<table border=\"1\" class=\"dataframe\">\n",
       "  <thead>\n",
       "    <tr style=\"text-align: right;\">\n",
       "      <th></th>\n",
       "      <th>Id</th>\n",
       "      <th>DistrictId</th>\n",
       "      <th>Rooms</th>\n",
       "      <th>Square</th>\n",
       "      <th>LifeSquare</th>\n",
       "      <th>KitchenSquare</th>\n",
       "      <th>Floor</th>\n",
       "      <th>HouseFloor</th>\n",
       "      <th>HouseYear</th>\n",
       "      <th>Ecology_1</th>\n",
       "      <th>Social_1</th>\n",
       "      <th>Social_2</th>\n",
       "      <th>Social_3</th>\n",
       "      <th>Healthcare_1</th>\n",
       "      <th>Helthcare_2</th>\n",
       "      <th>Shops_1</th>\n",
       "      <th>Price</th>\n",
       "    </tr>\n",
       "  </thead>\n",
       "  <tbody>\n",
       "    <tr>\n",
       "      <th>count</th>\n",
       "      <td>10000.00000</td>\n",
       "      <td>10000.000000</td>\n",
       "      <td>10000.000000</td>\n",
       "      <td>10000.000000</td>\n",
       "      <td>7887.000000</td>\n",
       "      <td>10000.000000</td>\n",
       "      <td>10000.000000</td>\n",
       "      <td>10000.000000</td>\n",
       "      <td>1.000000e+04</td>\n",
       "      <td>10000.000000</td>\n",
       "      <td>10000.000000</td>\n",
       "      <td>10000.000000</td>\n",
       "      <td>10000.000000</td>\n",
       "      <td>5202.000000</td>\n",
       "      <td>10000.000000</td>\n",
       "      <td>10000.000000</td>\n",
       "      <td>10000.000000</td>\n",
       "    </tr>\n",
       "    <tr>\n",
       "      <th>mean</th>\n",
       "      <td>8383.40770</td>\n",
       "      <td>50.400800</td>\n",
       "      <td>1.890500</td>\n",
       "      <td>56.315775</td>\n",
       "      <td>37.199645</td>\n",
       "      <td>6.273300</td>\n",
       "      <td>8.526700</td>\n",
       "      <td>12.609400</td>\n",
       "      <td>3.990166e+03</td>\n",
       "      <td>0.118858</td>\n",
       "      <td>24.687000</td>\n",
       "      <td>5352.157400</td>\n",
       "      <td>8.039200</td>\n",
       "      <td>1142.904460</td>\n",
       "      <td>1.319500</td>\n",
       "      <td>4.231300</td>\n",
       "      <td>214138.857399</td>\n",
       "    </tr>\n",
       "    <tr>\n",
       "      <th>std</th>\n",
       "      <td>4859.01902</td>\n",
       "      <td>43.587592</td>\n",
       "      <td>0.839512</td>\n",
       "      <td>21.058732</td>\n",
       "      <td>86.241209</td>\n",
       "      <td>28.560917</td>\n",
       "      <td>5.241148</td>\n",
       "      <td>6.775974</td>\n",
       "      <td>2.005003e+05</td>\n",
       "      <td>0.119025</td>\n",
       "      <td>17.532614</td>\n",
       "      <td>4006.799803</td>\n",
       "      <td>23.831875</td>\n",
       "      <td>1021.517264</td>\n",
       "      <td>1.493601</td>\n",
       "      <td>4.806341</td>\n",
       "      <td>92872.293865</td>\n",
       "    </tr>\n",
       "    <tr>\n",
       "      <th>min</th>\n",
       "      <td>0.00000</td>\n",
       "      <td>0.000000</td>\n",
       "      <td>0.000000</td>\n",
       "      <td>1.136859</td>\n",
       "      <td>0.370619</td>\n",
       "      <td>0.000000</td>\n",
       "      <td>1.000000</td>\n",
       "      <td>0.000000</td>\n",
       "      <td>1.910000e+03</td>\n",
       "      <td>0.000000</td>\n",
       "      <td>0.000000</td>\n",
       "      <td>168.000000</td>\n",
       "      <td>0.000000</td>\n",
       "      <td>0.000000</td>\n",
       "      <td>0.000000</td>\n",
       "      <td>0.000000</td>\n",
       "      <td>59174.778028</td>\n",
       "    </tr>\n",
       "    <tr>\n",
       "      <th>25%</th>\n",
       "      <td>4169.50000</td>\n",
       "      <td>20.000000</td>\n",
       "      <td>1.000000</td>\n",
       "      <td>41.774881</td>\n",
       "      <td>22.769832</td>\n",
       "      <td>1.000000</td>\n",
       "      <td>4.000000</td>\n",
       "      <td>9.000000</td>\n",
       "      <td>1.974000e+03</td>\n",
       "      <td>0.017647</td>\n",
       "      <td>6.000000</td>\n",
       "      <td>1564.000000</td>\n",
       "      <td>0.000000</td>\n",
       "      <td>350.000000</td>\n",
       "      <td>0.000000</td>\n",
       "      <td>1.000000</td>\n",
       "      <td>153872.633942</td>\n",
       "    </tr>\n",
       "    <tr>\n",
       "      <th>50%</th>\n",
       "      <td>8394.50000</td>\n",
       "      <td>36.000000</td>\n",
       "      <td>2.000000</td>\n",
       "      <td>52.513310</td>\n",
       "      <td>32.781260</td>\n",
       "      <td>6.000000</td>\n",
       "      <td>7.000000</td>\n",
       "      <td>13.000000</td>\n",
       "      <td>1.977000e+03</td>\n",
       "      <td>0.075424</td>\n",
       "      <td>25.000000</td>\n",
       "      <td>5285.000000</td>\n",
       "      <td>2.000000</td>\n",
       "      <td>900.000000</td>\n",
       "      <td>1.000000</td>\n",
       "      <td>3.000000</td>\n",
       "      <td>192269.644879</td>\n",
       "    </tr>\n",
       "    <tr>\n",
       "      <th>75%</th>\n",
       "      <td>12592.50000</td>\n",
       "      <td>75.000000</td>\n",
       "      <td>2.000000</td>\n",
       "      <td>65.900625</td>\n",
       "      <td>45.128803</td>\n",
       "      <td>9.000000</td>\n",
       "      <td>12.000000</td>\n",
       "      <td>17.000000</td>\n",
       "      <td>2.001000e+03</td>\n",
       "      <td>0.195781</td>\n",
       "      <td>36.000000</td>\n",
       "      <td>7227.000000</td>\n",
       "      <td>5.000000</td>\n",
       "      <td>1548.000000</td>\n",
       "      <td>2.000000</td>\n",
       "      <td>6.000000</td>\n",
       "      <td>249135.462171</td>\n",
       "    </tr>\n",
       "    <tr>\n",
       "      <th>max</th>\n",
       "      <td>16798.00000</td>\n",
       "      <td>209.000000</td>\n",
       "      <td>19.000000</td>\n",
       "      <td>641.065193</td>\n",
       "      <td>7480.592129</td>\n",
       "      <td>2014.000000</td>\n",
       "      <td>42.000000</td>\n",
       "      <td>117.000000</td>\n",
       "      <td>2.005201e+07</td>\n",
       "      <td>0.521867</td>\n",
       "      <td>74.000000</td>\n",
       "      <td>19083.000000</td>\n",
       "      <td>141.000000</td>\n",
       "      <td>4849.000000</td>\n",
       "      <td>6.000000</td>\n",
       "      <td>23.000000</td>\n",
       "      <td>633233.466570</td>\n",
       "    </tr>\n",
       "  </tbody>\n",
       "</table>\n",
       "</div>"
      ],
      "text/plain": [
       "                Id    DistrictId         Rooms        Square   LifeSquare  \\\n",
       "count  10000.00000  10000.000000  10000.000000  10000.000000  7887.000000   \n",
       "mean    8383.40770     50.400800      1.890500     56.315775    37.199645   \n",
       "std     4859.01902     43.587592      0.839512     21.058732    86.241209   \n",
       "min        0.00000      0.000000      0.000000      1.136859     0.370619   \n",
       "25%     4169.50000     20.000000      1.000000     41.774881    22.769832   \n",
       "50%     8394.50000     36.000000      2.000000     52.513310    32.781260   \n",
       "75%    12592.50000     75.000000      2.000000     65.900625    45.128803   \n",
       "max    16798.00000    209.000000     19.000000    641.065193  7480.592129   \n",
       "\n",
       "       KitchenSquare         Floor    HouseFloor     HouseYear     Ecology_1  \\\n",
       "count   10000.000000  10000.000000  10000.000000  1.000000e+04  10000.000000   \n",
       "mean        6.273300      8.526700     12.609400  3.990166e+03      0.118858   \n",
       "std        28.560917      5.241148      6.775974  2.005003e+05      0.119025   \n",
       "min         0.000000      1.000000      0.000000  1.910000e+03      0.000000   \n",
       "25%         1.000000      4.000000      9.000000  1.974000e+03      0.017647   \n",
       "50%         6.000000      7.000000     13.000000  1.977000e+03      0.075424   \n",
       "75%         9.000000     12.000000     17.000000  2.001000e+03      0.195781   \n",
       "max      2014.000000     42.000000    117.000000  2.005201e+07      0.521867   \n",
       "\n",
       "           Social_1      Social_2      Social_3  Healthcare_1   Helthcare_2  \\\n",
       "count  10000.000000  10000.000000  10000.000000   5202.000000  10000.000000   \n",
       "mean      24.687000   5352.157400      8.039200   1142.904460      1.319500   \n",
       "std       17.532614   4006.799803     23.831875   1021.517264      1.493601   \n",
       "min        0.000000    168.000000      0.000000      0.000000      0.000000   \n",
       "25%        6.000000   1564.000000      0.000000    350.000000      0.000000   \n",
       "50%       25.000000   5285.000000      2.000000    900.000000      1.000000   \n",
       "75%       36.000000   7227.000000      5.000000   1548.000000      2.000000   \n",
       "max       74.000000  19083.000000    141.000000   4849.000000      6.000000   \n",
       "\n",
       "            Shops_1          Price  \n",
       "count  10000.000000   10000.000000  \n",
       "mean       4.231300  214138.857399  \n",
       "std        4.806341   92872.293865  \n",
       "min        0.000000   59174.778028  \n",
       "25%        1.000000  153872.633942  \n",
       "50%        3.000000  192269.644879  \n",
       "75%        6.000000  249135.462171  \n",
       "max       23.000000  633233.466570  "
      ]
     },
     "execution_count": 12,
     "metadata": {},
     "output_type": "execute_result"
    }
   ],
   "source": [
    "train_df.describe()"
   ]
  },
  {
   "cell_type": "markdown",
   "id": "20917b1a",
   "metadata": {
    "papermill": {
     "duration": 0.092084,
     "end_time": "2021-11-02T18:57:48.107124",
     "exception": false,
     "start_time": "2021-11-02T18:57:48.015040",
     "status": "completed"
    },
    "tags": []
   },
   "source": [
    "**Rooms**"
   ]
  },
  {
   "cell_type": "code",
   "execution_count": 13,
   "id": "4afbc132",
   "metadata": {},
   "outputs": [
    {
     "data": {
      "text/plain": [
       "2.0     3880\n",
       "1.0     3705\n",
       "3.0     2235\n",
       "4.0      150\n",
       "5.0       18\n",
       "0.0        8\n",
       "10.0       2\n",
       "19.0       1\n",
       "6.0        1\n",
       "Name: Rooms, dtype: int64"
      ]
     },
     "execution_count": 13,
     "metadata": {},
     "output_type": "execute_result"
    }
   ],
   "source": [
    "train_df['Rooms'].value_counts()"
   ]
  },
  {
   "cell_type": "code",
   "execution_count": 14,
   "id": "1ba754fa",
   "metadata": {
    "execution": {
     "iopub.execute_input": "2021-11-02T18:57:43.683916Z",
     "iopub.status.busy": "2021-11-02T18:57:43.683084Z",
     "iopub.status.idle": "2021-11-02T18:57:43.733078Z",
     "shell.execute_reply": "2021-11-02T18:57:43.733699Z",
     "shell.execute_reply.started": "2021-11-02T18:55:58.204550Z"
    },
    "papermill": {
     "duration": 0.143666,
     "end_time": "2021-11-02T18:57:43.733865",
     "exception": false,
     "start_time": "2021-11-02T18:57:43.590199",
     "status": "completed"
    },
    "scrolled": false,
    "tags": []
   },
   "outputs": [],
   "source": [
    "train_df['Rooms_outlier'] = 0\n",
    "train_df.loc[(train_df['Rooms'] == 0) | (train_df['Rooms'] >= 6), 'Rooms_outlier'] = 1"
   ]
  },
  {
   "cell_type": "code",
   "execution_count": 15,
   "id": "1412cdc6",
   "metadata": {
    "execution": {
     "iopub.execute_input": "2021-11-02T18:57:43.914164Z",
     "iopub.status.busy": "2021-11-02T18:57:43.913445Z",
     "iopub.status.idle": "2021-11-02T18:57:43.922979Z",
     "shell.execute_reply": "2021-11-02T18:57:43.922236Z",
     "shell.execute_reply.started": "2021-11-02T18:55:58.239736Z"
    },
    "papermill": {
     "duration": 0.101527,
     "end_time": "2021-11-02T18:57:43.923112",
     "exception": false,
     "start_time": "2021-11-02T18:57:43.821585",
     "status": "completed"
    },
    "tags": []
   },
   "outputs": [],
   "source": [
    "train_df.loc[train_df['Rooms'] == 0, 'Rooms'] = 1\n",
    "train_df.loc[train_df['Rooms'] >= 6, 'Rooms'] = train_df['Rooms'].median()"
   ]
  },
  {
   "cell_type": "code",
   "execution_count": 16,
   "id": "faff5039",
   "metadata": {
    "execution": {
     "iopub.execute_input": "2021-11-02T18:57:44.107291Z",
     "iopub.status.busy": "2021-11-02T18:57:44.106495Z",
     "iopub.status.idle": "2021-11-02T18:57:44.112517Z",
     "shell.execute_reply": "2021-11-02T18:57:44.113240Z",
     "shell.execute_reply.started": "2021-11-02T18:55:58.247705Z"
    },
    "papermill": {
     "duration": 0.101397,
     "end_time": "2021-11-02T18:57:44.113408",
     "exception": false,
     "start_time": "2021-11-02T18:57:44.012011",
     "status": "completed"
    },
    "tags": []
   },
   "outputs": [
    {
     "data": {
      "text/plain": [
       "2.0    3884\n",
       "1.0    3713\n",
       "3.0    2235\n",
       "4.0     150\n",
       "5.0      18\n",
       "Name: Rooms, dtype: int64"
      ]
     },
     "execution_count": 16,
     "metadata": {},
     "output_type": "execute_result"
    }
   ],
   "source": [
    "train_df['Rooms'].value_counts()"
   ]
  },
  {
   "cell_type": "markdown",
   "id": "2dac57c0",
   "metadata": {
    "papermill": {
     "duration": 0.092084,
     "end_time": "2021-11-02T18:57:48.107124",
     "exception": false,
     "start_time": "2021-11-02T18:57:48.015040",
     "status": "completed"
    },
    "tags": []
   },
   "source": [
    "**LifeSquare**"
   ]
  },
  {
   "cell_type": "code",
   "execution_count": 17,
   "id": "bb079526",
   "metadata": {},
   "outputs": [],
   "source": [
    "train_df['LifeSquare_nan'] = train_df['LifeSquare'].isna() * 1\n",
    "\n",
    "condition = (train_df['LifeSquare'].isna()) & (~train_df['Square'].isna()) & (~train_df['KitchenSquare'].isna())\n",
    "        \n",
    "train_df.loc[condition, 'LifeSquare'] = train_df.loc[condition, 'Square'] - train_df.loc[condition, 'KitchenSquare']"
   ]
  },
  {
   "cell_type": "markdown",
   "id": "259b56c2",
   "metadata": {
    "papermill": {
     "duration": 0.092084,
     "end_time": "2021-11-02T18:57:48.107124",
     "exception": false,
     "start_time": "2021-11-02T18:57:48.015040",
     "status": "completed"
    },
    "tags": []
   },
   "source": [
    "**Healthcare_1**"
   ]
  },
  {
   "cell_type": "code",
   "execution_count": 18,
   "id": "e53ff40e",
   "metadata": {},
   "outputs": [],
   "source": [
    "train_df.drop('Healthcare_1', axis=1, inplace=True)"
   ]
  },
  {
   "cell_type": "markdown",
   "id": "bc90701d",
   "metadata": {
    "papermill": {
     "duration": 0.092084,
     "end_time": "2021-11-02T18:57:48.107124",
     "exception": false,
     "start_time": "2021-11-02T18:57:48.015040",
     "status": "completed"
    },
    "tags": []
   },
   "source": [
    "**KitchenSquare**"
   ]
  },
  {
   "cell_type": "code",
   "execution_count": 19,
   "id": "e45fd504",
   "metadata": {
    "execution": {
     "iopub.execute_input": "2021-11-02T18:57:44.467801Z",
     "iopub.status.busy": "2021-11-02T18:57:44.467123Z",
     "iopub.status.idle": "2021-11-02T18:57:44.477514Z",
     "shell.execute_reply": "2021-11-02T18:57:44.476776Z",
     "shell.execute_reply.started": "2021-11-02T18:55:58.262097Z"
    },
    "papermill": {
     "duration": 0.100162,
     "end_time": "2021-11-02T18:57:44.477646",
     "exception": false,
     "start_time": "2021-11-02T18:57:44.377484",
     "status": "completed"
    },
    "scrolled": true,
    "tags": []
   },
   "outputs": [
    {
     "data": {
      "text/plain": [
       "1.0       2460\n",
       "8.0       1306\n",
       "5.0       1169\n",
       "10.0      1075\n",
       "6.0       1038\n",
       "9.0        843\n",
       "0.0        697\n",
       "7.0        609\n",
       "12.0       249\n",
       "11.0       233\n",
       "13.0        67\n",
       "14.0        51\n",
       "4.0         39\n",
       "15.0        31\n",
       "3.0         22\n",
       "16.0        16\n",
       "20.0        14\n",
       "17.0        12\n",
       "19.0        11\n",
       "18.0         6\n",
       "2.0          4\n",
       "22.0         3\n",
       "30.0         2\n",
       "43.0         2\n",
       "41.0         2\n",
       "112.0        2\n",
       "25.0         2\n",
       "51.0         2\n",
       "37.0         2\n",
       "58.0         2\n",
       "32.0         2\n",
       "21.0         1\n",
       "73.0         1\n",
       "75.0         1\n",
       "36.0         1\n",
       "27.0         1\n",
       "63.0         1\n",
       "1970.0       1\n",
       "54.0         1\n",
       "53.0         1\n",
       "60.0         1\n",
       "26.0         1\n",
       "66.0         1\n",
       "39.0         1\n",
       "29.0         1\n",
       "78.0         1\n",
       "31.0         1\n",
       "84.0         1\n",
       "48.0         1\n",
       "96.0         1\n",
       "42.0         1\n",
       "40.0         1\n",
       "23.0         1\n",
       "72.0         1\n",
       "35.0         1\n",
       "62.0         1\n",
       "123.0        1\n",
       "2014.0       1\n",
       "Name: KitchenSquare, dtype: int64"
      ]
     },
     "execution_count": 19,
     "metadata": {},
     "output_type": "execute_result"
    }
   ],
   "source": [
    "train_df['KitchenSquare'].value_counts()"
   ]
  },
  {
   "cell_type": "code",
   "execution_count": 20,
   "id": "62014694",
   "metadata": {},
   "outputs": [
    {
     "data": {
      "text/plain": [
       "16.0"
      ]
     },
     "execution_count": 20,
     "metadata": {},
     "output_type": "execute_result"
    }
   ],
   "source": [
    "train_df['KitchenSquare'].quantile(.990)"
   ]
  },
  {
   "cell_type": "code",
   "execution_count": 21,
   "id": "aee3c93f",
   "metadata": {
    "execution": {
     "iopub.execute_input": "2021-11-02T18:57:44.851405Z",
     "iopub.status.busy": "2021-11-02T18:57:44.850615Z",
     "iopub.status.idle": "2021-11-02T18:57:44.861785Z",
     "shell.execute_reply": "2021-11-02T18:57:44.861167Z",
     "shell.execute_reply.started": "2021-11-02T18:55:58.289442Z"
    },
    "papermill": {
     "duration": 0.103364,
     "end_time": "2021-11-02T18:57:44.861927",
     "exception": false,
     "start_time": "2021-11-02T18:57:44.758563",
     "status": "completed"
    },
    "tags": []
   },
   "outputs": [],
   "source": [
    "condition = (train_df['KitchenSquare'].isna()) \\\n",
    "             | (train_df['KitchenSquare'] > train_df['KitchenSquare'].quantile(.990))\n",
    "        \n",
    "train_df.loc[condition, 'KitchenSquare'] = train_df['KitchenSquare'].median()\n",
    "\n",
    "train_df.loc[train_df['KitchenSquare'] < 4, 'KitchenSquare'] = 4"
   ]
  },
  {
   "cell_type": "code",
   "execution_count": 22,
   "id": "c1d1baf0",
   "metadata": {
    "execution": {
     "iopub.execute_input": "2021-11-02T18:57:45.043643Z",
     "iopub.status.busy": "2021-11-02T18:57:45.042802Z",
     "iopub.status.idle": "2021-11-02T18:57:45.052598Z",
     "shell.execute_reply": "2021-11-02T18:57:45.051930Z",
     "shell.execute_reply.started": "2021-11-02T18:55:58.302151Z"
    },
    "papermill": {
     "duration": 0.101789,
     "end_time": "2021-11-02T18:57:45.052733",
     "exception": false,
     "start_time": "2021-11-02T18:57:44.950944",
     "status": "completed"
    },
    "tags": []
   },
   "outputs": [
    {
     "data": {
      "text/plain": [
       "4.0     3222\n",
       "8.0     1306\n",
       "5.0     1169\n",
       "6.0     1129\n",
       "10.0    1075\n",
       "9.0      843\n",
       "7.0      609\n",
       "12.0     249\n",
       "11.0     233\n",
       "13.0      67\n",
       "14.0      51\n",
       "15.0      31\n",
       "16.0      16\n",
       "Name: KitchenSquare, dtype: int64"
      ]
     },
     "execution_count": 22,
     "metadata": {},
     "output_type": "execute_result"
    }
   ],
   "source": [
    "train_df['KitchenSquare'].value_counts()"
   ]
  },
  {
   "cell_type": "markdown",
   "id": "d1f14c9d",
   "metadata": {
    "papermill": {
     "duration": 0.092084,
     "end_time": "2021-11-02T18:57:48.107124",
     "exception": false,
     "start_time": "2021-11-02T18:57:48.015040",
     "status": "completed"
    },
    "tags": []
   },
   "source": [
    "**HouseFloor, Floor**"
   ]
  },
  {
   "cell_type": "code",
   "execution_count": 23,
   "id": "c16db4ec",
   "metadata": {
    "scrolled": true
   },
   "outputs": [
    {
     "data": {
      "text/plain": [
       "17.0     2331\n",
       "9.0      1389\n",
       "12.0     1074\n",
       "5.0      1031\n",
       "14.0      625\n",
       "16.0      576\n",
       "1.0       497\n",
       "25.0      374\n",
       "22.0      343\n",
       "0.0       269\n",
       "24.0      176\n",
       "8.0       141\n",
       "10.0      135\n",
       "4.0       134\n",
       "3.0       127\n",
       "15.0      123\n",
       "19.0      108\n",
       "20.0      105\n",
       "18.0       89\n",
       "7.0        59\n",
       "6.0        58\n",
       "2.0        48\n",
       "23.0       40\n",
       "21.0       33\n",
       "11.0       28\n",
       "13.0       27\n",
       "30.0       21\n",
       "40.0        7\n",
       "27.0        6\n",
       "32.0        4\n",
       "37.0        4\n",
       "28.0        3\n",
       "99.0        2\n",
       "39.0        2\n",
       "48.0        2\n",
       "47.0        1\n",
       "38.0        1\n",
       "36.0        1\n",
       "29.0        1\n",
       "44.0        1\n",
       "31.0        1\n",
       "117.0       1\n",
       "45.0        1\n",
       "26.0        1\n",
       "Name: HouseFloor, dtype: int64"
      ]
     },
     "execution_count": 23,
     "metadata": {},
     "output_type": "execute_result"
    }
   ],
   "source": [
    "train_df['HouseFloor'].value_counts()"
   ]
  },
  {
   "cell_type": "code",
   "execution_count": 24,
   "id": "a7c02a06",
   "metadata": {
    "execution": {
     "iopub.execute_input": "2021-11-02T18:57:45.415779Z",
     "iopub.status.busy": "2021-11-02T18:57:45.415001Z",
     "iopub.status.idle": "2021-11-02T18:57:45.422805Z",
     "shell.execute_reply": "2021-11-02T18:57:45.422116Z",
     "shell.execute_reply.started": "2021-11-02T18:55:58.315272Z"
    },
    "papermill": {
     "duration": 0.101609,
     "end_time": "2021-11-02T18:57:45.422947",
     "exception": false,
     "start_time": "2021-11-02T18:57:45.321338",
     "status": "completed"
    },
    "scrolled": true,
    "tags": []
   },
   "outputs": [
    {
     "data": {
      "text/plain": [
       "array([  0.,   1.,   2.,   3.,   4.,   5.,   6.,   7.,   8.,   9.,  10.,\n",
       "        11.,  12.,  13.,  14.,  15.,  16.,  17.,  18.,  19.,  20.,  21.,\n",
       "        22.,  23.,  24.,  25.,  26.,  27.,  28.,  29.,  30.,  31.,  32.,\n",
       "        36.,  37.,  38.,  39.,  40.,  44.,  45.,  47.,  48.,  99., 117.])"
      ]
     },
     "execution_count": 24,
     "metadata": {},
     "output_type": "execute_result"
    }
   ],
   "source": [
    "train_df['HouseFloor'].sort_values().unique()"
   ]
  },
  {
   "cell_type": "code",
   "execution_count": 25,
   "id": "22151708",
   "metadata": {
    "scrolled": false
   },
   "outputs": [
    {
     "data": {
      "text/plain": [
       "4     949\n",
       "5     876\n",
       "3     872\n",
       "6     802\n",
       "7     759\n",
       "8     643\n",
       "9     604\n",
       "2     588\n",
       "10    553\n",
       "11    457\n",
       "12    438\n",
       "13    398\n",
       "14    362\n",
       "16    290\n",
       "15    287\n",
       "17    256\n",
       "1     235\n",
       "18    185\n",
       "19    121\n",
       "20     68\n",
       "21     59\n",
       "22     54\n",
       "24     53\n",
       "25     34\n",
       "23     25\n",
       "26     18\n",
       "27      5\n",
       "28      3\n",
       "32      2\n",
       "31      1\n",
       "33      1\n",
       "42      1\n",
       "37      1\n",
       "Name: Floor, dtype: int64"
      ]
     },
     "execution_count": 25,
     "metadata": {},
     "output_type": "execute_result"
    }
   ],
   "source": [
    "train_df['Floor'].value_counts()"
   ]
  },
  {
   "cell_type": "code",
   "execution_count": 26,
   "id": "17806383",
   "metadata": {
    "execution": {
     "iopub.execute_input": "2021-11-02T18:57:45.607717Z",
     "iopub.status.busy": "2021-11-02T18:57:45.606914Z",
     "iopub.status.idle": "2021-11-02T18:57:45.614258Z",
     "shell.execute_reply": "2021-11-02T18:57:45.613625Z",
     "shell.execute_reply.started": "2021-11-02T18:55:58.325887Z"
    },
    "papermill": {
     "duration": 0.101509,
     "end_time": "2021-11-02T18:57:45.614397",
     "exception": false,
     "start_time": "2021-11-02T18:57:45.512888",
     "status": "completed"
    },
    "scrolled": true,
    "tags": []
   },
   "outputs": [
    {
     "data": {
      "text/plain": [
       "array([ 1,  2,  3,  4,  5,  6,  7,  8,  9, 10, 11, 12, 13, 14, 15, 16, 17,\n",
       "       18, 19, 20, 21, 22, 23, 24, 25, 26, 27, 28, 31, 32, 33, 37, 42],\n",
       "      dtype=int64)"
      ]
     },
     "execution_count": 26,
     "metadata": {},
     "output_type": "execute_result"
    }
   ],
   "source": [
    "train_df['Floor'].sort_values().unique()"
   ]
  },
  {
   "cell_type": "code",
   "execution_count": 27,
   "id": "b5a80664",
   "metadata": {
    "execution": {
     "iopub.execute_input": "2021-11-02T18:57:45.802543Z",
     "iopub.status.busy": "2021-11-02T18:57:45.801822Z",
     "iopub.status.idle": "2021-11-02T18:57:45.806587Z",
     "shell.execute_reply": "2021-11-02T18:57:45.805920Z",
     "shell.execute_reply.started": "2021-11-02T18:55:58.338063Z"
    },
    "papermill": {
     "duration": 0.10148,
     "end_time": "2021-11-02T18:57:45.806720",
     "exception": false,
     "start_time": "2021-11-02T18:57:45.705240",
     "status": "completed"
    },
    "tags": []
   },
   "outputs": [
    {
     "data": {
      "text/plain": [
       "1825"
      ]
     },
     "execution_count": 27,
     "metadata": {},
     "output_type": "execute_result"
    }
   ],
   "source": [
    "(train_df['Floor'] > train_df['HouseFloor']).sum()"
   ]
  },
  {
   "cell_type": "code",
   "execution_count": 28,
   "id": "cc66701c",
   "metadata": {
    "execution": {
     "iopub.execute_input": "2021-11-02T18:57:46.000242Z",
     "iopub.status.busy": "2021-11-02T18:57:45.999268Z",
     "iopub.status.idle": "2021-11-02T18:57:46.003164Z",
     "shell.execute_reply": "2021-11-02T18:57:46.002490Z",
     "shell.execute_reply.started": "2021-11-02T18:55:58.348581Z"
    },
    "papermill": {
     "duration": 0.106155,
     "end_time": "2021-11-02T18:57:46.003314",
     "exception": false,
     "start_time": "2021-11-02T18:57:45.897159",
     "status": "completed"
    },
    "tags": []
   },
   "outputs": [],
   "source": [
    "train_df['HouseFloor_outlier'] = 0\n",
    "train_df.loc[train_df['HouseFloor'] == 0, 'HouseFloor_outlier'] = 1\n",
    "train_df.loc[train_df['Floor'] > train_df['HouseFloor'], 'HouseFloor_outlier'] = 1"
   ]
  },
  {
   "cell_type": "code",
   "execution_count": 29,
   "id": "9fa54c94",
   "metadata": {
    "execution": {
     "iopub.execute_input": "2021-11-02T18:57:46.191076Z",
     "iopub.status.busy": "2021-11-02T18:57:46.189896Z",
     "iopub.status.idle": "2021-11-02T18:57:46.195425Z",
     "shell.execute_reply": "2021-11-02T18:57:46.194656Z",
     "shell.execute_reply.started": "2021-11-02T18:55:58.361498Z"
    },
    "papermill": {
     "duration": 0.102694,
     "end_time": "2021-11-02T18:57:46.195571",
     "exception": false,
     "start_time": "2021-11-02T18:57:46.092877",
     "status": "completed"
    },
    "tags": []
   },
   "outputs": [],
   "source": [
    "train_df.loc[train_df['HouseFloor'] == 0, 'HouseFloor'] = train_df['HouseFloor'].median()"
   ]
  },
  {
   "cell_type": "code",
   "execution_count": 30,
   "id": "2465060c",
   "metadata": {
    "execution": {
     "iopub.execute_input": "2021-11-02T18:57:46.384658Z",
     "iopub.status.busy": "2021-11-02T18:57:46.382284Z",
     "iopub.status.idle": "2021-11-02T18:57:46.389250Z",
     "shell.execute_reply": "2021-11-02T18:57:46.388497Z",
     "shell.execute_reply.started": "2021-11-02T18:55:58.370678Z"
    },
    "papermill": {
     "duration": 0.102826,
     "end_time": "2021-11-02T18:57:46.389378",
     "exception": false,
     "start_time": "2021-11-02T18:57:46.286552",
     "status": "completed"
    },
    "tags": []
   },
   "outputs": [
    {
     "data": {
      "text/plain": [
       "Int64Index([  17,   19,   21,   25,   26,   33,   34,   37,   39,   44,\n",
       "            ...\n",
       "            9913, 9921, 9930, 9931, 9938, 9953, 9960, 9968, 9970, 9975],\n",
       "           dtype='int64', length=1610)"
      ]
     },
     "execution_count": 30,
     "metadata": {},
     "output_type": "execute_result"
    }
   ],
   "source": [
    "floor_outliers = train_df.loc[train_df['Floor'] > train_df['HouseFloor']].index\n",
    "floor_outliers"
   ]
  },
  {
   "cell_type": "code",
   "execution_count": 31,
   "id": "237b47bd",
   "metadata": {
    "execution": {
     "iopub.execute_input": "2021-11-02T18:57:46.579200Z",
     "iopub.status.busy": "2021-11-02T18:57:46.578455Z",
     "iopub.status.idle": "2021-11-02T18:57:46.582454Z",
     "shell.execute_reply": "2021-11-02T18:57:46.583147Z",
     "shell.execute_reply.started": "2021-11-02T18:55:58.385119Z"
    },
    "papermill": {
     "duration": 0.104819,
     "end_time": "2021-11-02T18:57:46.583340",
     "exception": false,
     "start_time": "2021-11-02T18:57:46.478521",
     "status": "completed"
    },
    "tags": []
   },
   "outputs": [],
   "source": [
    "train_df.loc[floor_outliers, 'Floor'] = train_df.loc[floor_outliers, 'HouseFloor'].apply(lambda x: random.randint(1, x))"
   ]
  },
  {
   "cell_type": "code",
   "execution_count": 32,
   "id": "4bbf5245",
   "metadata": {
    "execution": {
     "iopub.execute_input": "2021-11-02T18:57:46.771755Z",
     "iopub.status.busy": "2021-11-02T18:57:46.770964Z",
     "iopub.status.idle": "2021-11-02T18:57:46.774632Z",
     "shell.execute_reply": "2021-11-02T18:57:46.775162Z",
     "shell.execute_reply.started": "2021-11-02T18:55:58.402215Z"
    },
    "papermill": {
     "duration": 0.101848,
     "end_time": "2021-11-02T18:57:46.775339",
     "exception": false,
     "start_time": "2021-11-02T18:57:46.673491",
     "status": "completed"
    },
    "tags": []
   },
   "outputs": [
    {
     "data": {
      "text/plain": [
       "0"
      ]
     },
     "execution_count": 32,
     "metadata": {},
     "output_type": "execute_result"
    }
   ],
   "source": [
    "(train_df['Floor'] > train_df['HouseFloor']).sum()"
   ]
  },
  {
   "cell_type": "markdown",
   "id": "89ad4ee9",
   "metadata": {
    "papermill": {
     "duration": 0.092084,
     "end_time": "2021-11-02T18:57:48.107124",
     "exception": false,
     "start_time": "2021-11-02T18:57:48.015040",
     "status": "completed"
    },
    "tags": []
   },
   "source": [
    "**HouseYear**"
   ]
  },
  {
   "cell_type": "code",
   "execution_count": 33,
   "id": "cb665e64",
   "metadata": {
    "execution": {
     "iopub.execute_input": "2021-11-02T18:57:47.136702Z",
     "iopub.status.busy": "2021-11-02T18:57:47.135994Z",
     "iopub.status.idle": "2021-11-02T18:57:47.144682Z",
     "shell.execute_reply": "2021-11-02T18:57:47.145254Z",
     "shell.execute_reply.started": "2021-11-02T18:55:58.412288Z"
    },
    "papermill": {
     "duration": 0.102019,
     "end_time": "2021-11-02T18:57:47.145412",
     "exception": false,
     "start_time": "2021-11-02T18:57:47.043393",
     "status": "completed"
    },
    "tags": []
   },
   "outputs": [
    {
     "data": {
      "text/plain": [
       "array([    1910,     1912,     1914,     1916,     1917,     1918,\n",
       "           1919,     1928,     1929,     1930,     1931,     1932,\n",
       "           1933,     1934,     1935,     1936,     1937,     1938,\n",
       "           1939,     1940,     1941,     1942,     1947,     1948,\n",
       "           1950,     1951,     1952,     1953,     1954,     1955,\n",
       "           1956,     1957,     1958,     1959,     1960,     1961,\n",
       "           1962,     1963,     1964,     1965,     1966,     1967,\n",
       "           1968,     1969,     1970,     1971,     1972,     1973,\n",
       "           1974,     1975,     1976,     1977,     1978,     1979,\n",
       "           1980,     1981,     1982,     1983,     1984,     1985,\n",
       "           1986,     1987,     1988,     1989,     1990,     1991,\n",
       "           1992,     1993,     1994,     1995,     1996,     1997,\n",
       "           1998,     1999,     2000,     2001,     2002,     2003,\n",
       "           2004,     2005,     2006,     2007,     2008,     2009,\n",
       "           2010,     2011,     2012,     2013,     2014,     2015,\n",
       "           2016,     2017,     2018,     2019,     2020,     4968,\n",
       "       20052011], dtype=int64)"
      ]
     },
     "execution_count": 33,
     "metadata": {},
     "output_type": "execute_result"
    }
   ],
   "source": [
    "train_df['HouseYear'].sort_values().unique()"
   ]
  },
  {
   "cell_type": "code",
   "execution_count": 34,
   "id": "7a48665a",
   "metadata": {
    "execution": {
     "iopub.execute_input": "2021-11-02T18:57:47.332288Z",
     "iopub.status.busy": "2021-11-02T18:57:47.331602Z",
     "iopub.status.idle": "2021-11-02T18:57:47.334232Z",
     "shell.execute_reply": "2021-11-02T18:57:47.334791Z",
     "shell.execute_reply.started": "2021-11-02T18:55:58.425464Z"
    },
    "papermill": {
     "duration": 0.099537,
     "end_time": "2021-11-02T18:57:47.334946",
     "exception": false,
     "start_time": "2021-11-02T18:57:47.235409",
     "status": "completed"
    },
    "tags": []
   },
   "outputs": [],
   "source": [
    "train_df.loc[train_df['HouseYear'] > 2022, 'HouseYear'] = 2022"
   ]
  },
  {
   "cell_type": "markdown",
   "id": "a785f935",
   "metadata": {
    "papermill": {
     "duration": 0.082602,
     "end_time": "2021-11-02T18:57:41.997437",
     "exception": false,
     "start_time": "2021-11-02T18:57:41.914835",
     "status": "completed"
    },
    "tags": []
   },
   "source": [
    "**Номинативные переменные**"
   ]
  },
  {
   "cell_type": "code",
   "execution_count": 35,
   "id": "d01aadd8",
   "metadata": {
    "execution": {
     "iopub.execute_input": "2021-11-02T18:57:42.168843Z",
     "iopub.status.busy": "2021-11-02T18:57:42.167564Z",
     "iopub.status.idle": "2021-11-02T18:57:42.177790Z",
     "shell.execute_reply": "2021-11-02T18:57:42.178461Z",
     "shell.execute_reply.started": "2021-11-02T18:55:58.120056Z"
    },
    "papermill": {
     "duration": 0.097881,
     "end_time": "2021-11-02T18:57:42.178629",
     "exception": false,
     "start_time": "2021-11-02T18:57:42.080748",
     "status": "completed"
    },
    "tags": []
   },
   "outputs": [
    {
     "data": {
      "text/plain": [
       "['Ecology_2', 'Ecology_3', 'Shops_2']"
      ]
     },
     "execution_count": 35,
     "metadata": {},
     "output_type": "execute_result"
    }
   ],
   "source": [
    "train_df.select_dtypes(include='object').columns.tolist()"
   ]
  },
  {
   "cell_type": "code",
   "execution_count": 36,
   "id": "32792466",
   "metadata": {
    "execution": {
     "iopub.execute_input": "2021-11-02T18:57:42.587546Z",
     "iopub.status.busy": "2021-11-02T18:57:42.586448Z",
     "iopub.status.idle": "2021-11-02T18:57:42.597167Z",
     "shell.execute_reply": "2021-11-02T18:57:42.597842Z",
     "shell.execute_reply.started": "2021-11-02T18:55:58.149296Z"
    },
    "papermill": {
     "duration": 0.149401,
     "end_time": "2021-11-02T18:57:42.598017",
     "exception": false,
     "start_time": "2021-11-02T18:57:42.448616",
     "status": "completed"
    },
    "tags": []
   },
   "outputs": [
    {
     "data": {
      "text/plain": [
       "B    9903\n",
       "A      97\n",
       "Name: Ecology_2, dtype: int64"
      ]
     },
     "execution_count": 36,
     "metadata": {},
     "output_type": "execute_result"
    }
   ],
   "source": [
    "train_df['Ecology_2'].value_counts()"
   ]
  },
  {
   "cell_type": "code",
   "execution_count": 37,
   "id": "2f73f649",
   "metadata": {
    "execution": {
     "iopub.execute_input": "2021-11-02T18:57:42.771696Z",
     "iopub.status.busy": "2021-11-02T18:57:42.770543Z",
     "iopub.status.idle": "2021-11-02T18:57:42.781951Z",
     "shell.execute_reply": "2021-11-02T18:57:42.781346Z",
     "shell.execute_reply.started": "2021-11-02T18:55:58.164248Z"
    },
    "papermill": {
     "duration": 0.099429,
     "end_time": "2021-11-02T18:57:42.782104",
     "exception": false,
     "start_time": "2021-11-02T18:57:42.682675",
     "status": "completed"
    },
    "tags": []
   },
   "outputs": [
    {
     "data": {
      "text/plain": [
       "B    9725\n",
       "A     275\n",
       "Name: Ecology_3, dtype: int64"
      ]
     },
     "execution_count": 37,
     "metadata": {},
     "output_type": "execute_result"
    }
   ],
   "source": [
    "train_df['Ecology_3'].value_counts()"
   ]
  },
  {
   "cell_type": "code",
   "execution_count": 38,
   "id": "cc1a868d",
   "metadata": {
    "execution": {
     "iopub.execute_input": "2021-11-02T18:57:42.967416Z",
     "iopub.status.busy": "2021-11-02T18:57:42.966410Z",
     "iopub.status.idle": "2021-11-02T18:57:42.970547Z",
     "shell.execute_reply": "2021-11-02T18:57:42.971196Z",
     "shell.execute_reply.started": "2021-11-02T18:55:58.177127Z"
    },
    "papermill": {
     "duration": 0.101355,
     "end_time": "2021-11-02T18:57:42.971361",
     "exception": false,
     "start_time": "2021-11-02T18:57:42.870006",
     "status": "completed"
    },
    "tags": []
   },
   "outputs": [
    {
     "data": {
      "text/plain": [
       "B    9175\n",
       "A     825\n",
       "Name: Shops_2, dtype: int64"
      ]
     },
     "execution_count": 38,
     "metadata": {},
     "output_type": "execute_result"
    }
   ],
   "source": [
    "train_df['Shops_2'].value_counts()"
   ]
  },
  {
   "cell_type": "code",
   "execution_count": 39,
   "id": "c476e44b",
   "metadata": {},
   "outputs": [],
   "source": [
    "binary_to_numbers = {'A': 0, 'B': 1}\n",
    "\n",
    "train_df['Ecology_2'] = train_df['Ecology_2'].replace(binary_to_numbers)\n",
    "train_df['Ecology_3'] = train_df['Ecology_3'].replace(binary_to_numbers)\n",
    "train_df['Shops_2'] = train_df['Shops_2'].replace(binary_to_numbers)"
   ]
  },
  {
   "cell_type": "code",
   "execution_count": 40,
   "id": "6e175d8e",
   "metadata": {},
   "outputs": [],
   "source": [
    "class DataPreprocessing():\n",
    "    \"\"\"Подготовка исходных данных\"\"\"\n",
    "\n",
    "    def __init__(self):\n",
    "        \"\"\"Параметры класса\"\"\"\n",
    "        self.medians = None\n",
    "        self.kitchen_square_quantile = None\n",
    "        \n",
    "    def fit(self, X):\n",
    "        \"\"\"Сохранение статистик\"\"\"       \n",
    "        # Расчет медиан\n",
    "        self.medians = X.median()\n",
    "        self.kitchen_square_quantile = X['KitchenSquare'].quantile(.99)\n",
    "    \n",
    "    def transform(self, X):\n",
    "        \"\"\"Трансформация данных\"\"\"\n",
    "\n",
    "        # Drop Id\n",
    "        #X.drop(['Id'], axis=1, inplace=True)\n",
    "        \n",
    "        # Rooms\n",
    "        X['Rooms_outlier'] = 0\n",
    "        X.loc[(X['Rooms'] == 0) | (X['Rooms'] >= 6), 'Rooms_outlier'] = 1\n",
    "        \n",
    "        X.loc[X['Rooms'] == 0, 'Rooms'] = 1\n",
    "        X.loc[X['Rooms'] >= 6, 'Rooms'] = self.medians['Rooms']\n",
    "        \n",
    "        # LifeSquare\n",
    "        X['LifeSquare_nan'] = X['LifeSquare'].isna() * 1\n",
    "        condition = (X['LifeSquare'].isna()) & (~X['Square'].isna()) & (~X['KitchenSquare'].isna())\n",
    "        \n",
    "        X.loc[condition, 'LifeSquare'] = X.loc[condition, 'Square'] - X.loc[condition, 'KitchenSquare']\n",
    "        \n",
    "        # Healthcare_1\n",
    "        if 'Healthcare_1' in X.columns:\n",
    "            X.drop('Healthcare_1', axis=1, inplace=True)\n",
    "        \n",
    "        # KitchenSquare\n",
    "        condition = (X['KitchenSquare'].isna()) \\\n",
    "                    | (X['KitchenSquare'] > self.kitchen_square_quantile)\n",
    "        \n",
    "        X.loc[condition, 'KitchenSquare'] = self.medians['KitchenSquare']\n",
    "\n",
    "        X.loc[X['KitchenSquare'] < 4, 'KitchenSquare'] = 4\n",
    "        \n",
    "        # HouseFloor, Floor\n",
    "        X['HouseFloor_outlier'] = 0\n",
    "        X.loc[X['HouseFloor'] == 0, 'HouseFloor_outlier'] = 1\n",
    "        X.loc[X['Floor'] > X['HouseFloor'], 'HouseFloor_outlier'] = 1\n",
    "        \n",
    "        X.loc[X['HouseFloor'] == 0, 'HouseFloor'] = self.medians['HouseFloor']\n",
    "        \n",
    "        floor_outliers = X.loc[X['Floor'] > X['HouseFloor']].index\n",
    "        X.loc[floor_outliers, 'Floor'] = X.loc[floor_outliers, 'HouseFloor'].apply(lambda x: random.randint(1, x))\n",
    "        \n",
    "        # HouseYear\n",
    "        current_year = datetime.now().year\n",
    "        \n",
    "        X['HouseYear_outlier'] = 0\n",
    "        X.loc[X['HouseYear'] > current_year, 'HouseYear_outlier'] = 1\n",
    "        \n",
    "        X.loc[X['HouseYear'] > current_year, 'HouseYear'] = current_year\n",
    "        \n",
    "        # Fillna just in case\n",
    "        X.fillna(self.medians, inplace=True)\n",
    "        \n",
    "        return X"
   ]
  },
  {
   "cell_type": "markdown",
   "id": "5ed18fe6",
   "metadata": {
    "papermill": {
     "duration": 0.091939,
     "end_time": "2021-11-02T18:57:49.096346",
     "exception": false,
     "start_time": "2021-11-02T18:57:49.004407",
     "status": "completed"
    },
    "tags": []
   },
   "source": [
    "### Построение новых признаков"
   ]
  },
  {
   "cell_type": "markdown",
   "id": "9a38d11c",
   "metadata": {
    "papermill": {
     "duration": 0.093334,
     "end_time": "2021-11-02T18:57:49.686290",
     "exception": false,
     "start_time": "2021-11-02T18:57:49.592956",
     "status": "completed"
    },
    "tags": []
   },
   "source": [
    "**DistrictSize, IsDistrictLarge**"
   ]
  },
  {
   "cell_type": "code",
   "execution_count": 41,
   "id": "596cae09",
   "metadata": {
    "execution": {
     "iopub.execute_input": "2021-11-02T18:57:49.887936Z",
     "iopub.status.busy": "2021-11-02T18:57:49.887146Z",
     "iopub.status.idle": "2021-11-02T18:57:49.892009Z",
     "shell.execute_reply": "2021-11-02T18:57:49.892734Z",
     "shell.execute_reply.started": "2021-11-02T18:55:58.557067Z"
    },
    "papermill": {
     "duration": 0.114104,
     "end_time": "2021-11-02T18:57:49.892903",
     "exception": false,
     "start_time": "2021-11-02T18:57:49.778799",
     "status": "completed"
    },
    "tags": []
   },
   "outputs": [
    {
     "data": {
      "text/html": [
       "<div>\n",
       "<style scoped>\n",
       "    .dataframe tbody tr th:only-of-type {\n",
       "        vertical-align: middle;\n",
       "    }\n",
       "\n",
       "    .dataframe tbody tr th {\n",
       "        vertical-align: top;\n",
       "    }\n",
       "\n",
       "    .dataframe thead th {\n",
       "        text-align: right;\n",
       "    }\n",
       "</style>\n",
       "<table border=\"1\" class=\"dataframe\">\n",
       "  <thead>\n",
       "    <tr style=\"text-align: right;\">\n",
       "      <th></th>\n",
       "      <th>DistrictId</th>\n",
       "      <th>DistrictSize</th>\n",
       "    </tr>\n",
       "  </thead>\n",
       "  <tbody>\n",
       "    <tr>\n",
       "      <th>0</th>\n",
       "      <td>27</td>\n",
       "      <td>851</td>\n",
       "    </tr>\n",
       "    <tr>\n",
       "      <th>1</th>\n",
       "      <td>1</td>\n",
       "      <td>652</td>\n",
       "    </tr>\n",
       "    <tr>\n",
       "      <th>2</th>\n",
       "      <td>23</td>\n",
       "      <td>565</td>\n",
       "    </tr>\n",
       "    <tr>\n",
       "      <th>3</th>\n",
       "      <td>6</td>\n",
       "      <td>511</td>\n",
       "    </tr>\n",
       "    <tr>\n",
       "      <th>4</th>\n",
       "      <td>9</td>\n",
       "      <td>294</td>\n",
       "    </tr>\n",
       "  </tbody>\n",
       "</table>\n",
       "</div>"
      ],
      "text/plain": [
       "   DistrictId  DistrictSize\n",
       "0          27           851\n",
       "1           1           652\n",
       "2          23           565\n",
       "3           6           511\n",
       "4           9           294"
      ]
     },
     "execution_count": 41,
     "metadata": {},
     "output_type": "execute_result"
    }
   ],
   "source": [
    "district_size = train_df['DistrictId'].value_counts().reset_index()\\\n",
    "                    .rename(columns={'index':'DistrictId', 'DistrictId':'DistrictSize'})\n",
    "\n",
    "district_size.head()"
   ]
  },
  {
   "cell_type": "code",
   "execution_count": 42,
   "id": "30fd1186",
   "metadata": {},
   "outputs": [
    {
     "data": {
      "text/plain": [
       "array([  1,   2,   3,   4,   5,   6,   7,   8,   9,  10,  11,  12,  13,\n",
       "        14,  15,  16,  17,  18,  19,  20,  21,  22,  23,  24,  25,  26,\n",
       "        27,  28,  29,  31,  32,  33,  34,  35,  36,  37,  40,  41,  42,\n",
       "        43,  44,  46,  48,  49,  51,  55,  56,  57,  58,  59,  61,  62,\n",
       "        64,  65,  66,  67,  71,  72,  73,  76,  77,  78,  79,  80,  82,\n",
       "        87,  89,  90,  92,  97, 104, 107, 111, 114, 116, 118, 119, 129,\n",
       "       142, 143, 165, 174, 179, 228, 247, 294, 511, 565, 652, 851],\n",
       "      dtype=int64)"
      ]
     },
     "execution_count": 42,
     "metadata": {},
     "output_type": "execute_result"
    }
   ],
   "source": [
    "district_size['DistrictSize'].sort_values().unique()"
   ]
  },
  {
   "cell_type": "code",
   "execution_count": 43,
   "id": "273ac724",
   "metadata": {},
   "outputs": [
    {
     "data": {
      "text/plain": [
       "5     12\n",
       "6     11\n",
       "10    11\n",
       "11    10\n",
       "1      7\n",
       "      ..\n",
       "77     1\n",
       "79     1\n",
       "80     1\n",
       "82     1\n",
       "51     1\n",
       "Name: DistrictSize, Length: 90, dtype: int64"
      ]
     },
     "execution_count": 43,
     "metadata": {},
     "output_type": "execute_result"
    }
   ],
   "source": [
    "district_size['DistrictSize'].value_counts()"
   ]
  },
  {
   "cell_type": "code",
   "execution_count": 44,
   "id": "f1df7680",
   "metadata": {
    "scrolled": true
   },
   "outputs": [
    {
     "data": {
      "text/html": [
       "<div>\n",
       "<style scoped>\n",
       "    .dataframe tbody tr th:only-of-type {\n",
       "        vertical-align: middle;\n",
       "    }\n",
       "\n",
       "    .dataframe tbody tr th {\n",
       "        vertical-align: top;\n",
       "    }\n",
       "\n",
       "    .dataframe thead th {\n",
       "        text-align: right;\n",
       "    }\n",
       "</style>\n",
       "<table border=\"1\" class=\"dataframe\">\n",
       "  <thead>\n",
       "    <tr style=\"text-align: right;\">\n",
       "      <th></th>\n",
       "      <th>Id</th>\n",
       "      <th>DistrictId</th>\n",
       "      <th>Rooms</th>\n",
       "      <th>Square</th>\n",
       "      <th>LifeSquare</th>\n",
       "      <th>KitchenSquare</th>\n",
       "      <th>Floor</th>\n",
       "      <th>HouseFloor</th>\n",
       "      <th>HouseYear</th>\n",
       "      <th>Ecology_1</th>\n",
       "      <th>...</th>\n",
       "      <th>Social_2</th>\n",
       "      <th>Social_3</th>\n",
       "      <th>Helthcare_2</th>\n",
       "      <th>Shops_1</th>\n",
       "      <th>Shops_2</th>\n",
       "      <th>Price</th>\n",
       "      <th>Rooms_outlier</th>\n",
       "      <th>LifeSquare_nan</th>\n",
       "      <th>HouseFloor_outlier</th>\n",
       "      <th>DistrictSize</th>\n",
       "    </tr>\n",
       "  </thead>\n",
       "  <tbody>\n",
       "    <tr>\n",
       "      <th>0</th>\n",
       "      <td>11809</td>\n",
       "      <td>27</td>\n",
       "      <td>3.0</td>\n",
       "      <td>115.027311</td>\n",
       "      <td>105.027311</td>\n",
       "      <td>10.0</td>\n",
       "      <td>4</td>\n",
       "      <td>10.0</td>\n",
       "      <td>2014</td>\n",
       "      <td>0.075424</td>\n",
       "      <td>...</td>\n",
       "      <td>3097</td>\n",
       "      <td>0</td>\n",
       "      <td>0</td>\n",
       "      <td>0</td>\n",
       "      <td>1</td>\n",
       "      <td>305018.871089</td>\n",
       "      <td>0</td>\n",
       "      <td>1</td>\n",
       "      <td>0</td>\n",
       "      <td>851</td>\n",
       "    </tr>\n",
       "    <tr>\n",
       "      <th>1</th>\n",
       "      <td>3013</td>\n",
       "      <td>22</td>\n",
       "      <td>1.0</td>\n",
       "      <td>39.832524</td>\n",
       "      <td>23.169223</td>\n",
       "      <td>8.0</td>\n",
       "      <td>7</td>\n",
       "      <td>8.0</td>\n",
       "      <td>1966</td>\n",
       "      <td>0.118537</td>\n",
       "      <td>...</td>\n",
       "      <td>6207</td>\n",
       "      <td>1</td>\n",
       "      <td>1</td>\n",
       "      <td>0</td>\n",
       "      <td>1</td>\n",
       "      <td>177734.553407</td>\n",
       "      <td>0</td>\n",
       "      <td>0</td>\n",
       "      <td>0</td>\n",
       "      <td>78</td>\n",
       "    </tr>\n",
       "    <tr>\n",
       "      <th>2</th>\n",
       "      <td>8215</td>\n",
       "      <td>1</td>\n",
       "      <td>3.0</td>\n",
       "      <td>78.342215</td>\n",
       "      <td>47.671972</td>\n",
       "      <td>10.0</td>\n",
       "      <td>2</td>\n",
       "      <td>17.0</td>\n",
       "      <td>1988</td>\n",
       "      <td>0.025609</td>\n",
       "      <td>...</td>\n",
       "      <td>5261</td>\n",
       "      <td>0</td>\n",
       "      <td>3</td>\n",
       "      <td>1</td>\n",
       "      <td>1</td>\n",
       "      <td>282078.720850</td>\n",
       "      <td>0</td>\n",
       "      <td>0</td>\n",
       "      <td>0</td>\n",
       "      <td>652</td>\n",
       "    </tr>\n",
       "    <tr>\n",
       "      <th>3</th>\n",
       "      <td>2352</td>\n",
       "      <td>1</td>\n",
       "      <td>1.0</td>\n",
       "      <td>40.409907</td>\n",
       "      <td>39.409907</td>\n",
       "      <td>4.0</td>\n",
       "      <td>10</td>\n",
       "      <td>22.0</td>\n",
       "      <td>1977</td>\n",
       "      <td>0.007122</td>\n",
       "      <td>...</td>\n",
       "      <td>264</td>\n",
       "      <td>0</td>\n",
       "      <td>0</td>\n",
       "      <td>1</td>\n",
       "      <td>1</td>\n",
       "      <td>168106.007630</td>\n",
       "      <td>0</td>\n",
       "      <td>1</td>\n",
       "      <td>0</td>\n",
       "      <td>652</td>\n",
       "    </tr>\n",
       "    <tr>\n",
       "      <th>4</th>\n",
       "      <td>13866</td>\n",
       "      <td>94</td>\n",
       "      <td>2.0</td>\n",
       "      <td>64.285067</td>\n",
       "      <td>38.562517</td>\n",
       "      <td>9.0</td>\n",
       "      <td>16</td>\n",
       "      <td>16.0</td>\n",
       "      <td>1972</td>\n",
       "      <td>0.282798</td>\n",
       "      <td>...</td>\n",
       "      <td>8667</td>\n",
       "      <td>2</td>\n",
       "      <td>0</td>\n",
       "      <td>6</td>\n",
       "      <td>1</td>\n",
       "      <td>343995.102962</td>\n",
       "      <td>0</td>\n",
       "      <td>0</td>\n",
       "      <td>0</td>\n",
       "      <td>89</td>\n",
       "    </tr>\n",
       "  </tbody>\n",
       "</table>\n",
       "<p>5 rows × 23 columns</p>\n",
       "</div>"
      ],
      "text/plain": [
       "      Id  DistrictId  Rooms      Square  LifeSquare  KitchenSquare  Floor  \\\n",
       "0  11809          27    3.0  115.027311  105.027311           10.0      4   \n",
       "1   3013          22    1.0   39.832524   23.169223            8.0      7   \n",
       "2   8215           1    3.0   78.342215   47.671972           10.0      2   \n",
       "3   2352           1    1.0   40.409907   39.409907            4.0     10   \n",
       "4  13866          94    2.0   64.285067   38.562517            9.0     16   \n",
       "\n",
       "   HouseFloor  HouseYear  Ecology_1  ...  Social_2  Social_3  Helthcare_2  \\\n",
       "0        10.0       2014   0.075424  ...      3097         0            0   \n",
       "1         8.0       1966   0.118537  ...      6207         1            1   \n",
       "2        17.0       1988   0.025609  ...      5261         0            3   \n",
       "3        22.0       1977   0.007122  ...       264         0            0   \n",
       "4        16.0       1972   0.282798  ...      8667         2            0   \n",
       "\n",
       "   Shops_1  Shops_2          Price  Rooms_outlier  LifeSquare_nan  \\\n",
       "0        0        1  305018.871089              0               1   \n",
       "1        0        1  177734.553407              0               0   \n",
       "2        1        1  282078.720850              0               0   \n",
       "3        1        1  168106.007630              0               1   \n",
       "4        6        1  343995.102962              0               0   \n",
       "\n",
       "   HouseFloor_outlier  DistrictSize  \n",
       "0                   0           851  \n",
       "1                   0            78  \n",
       "2                   0           652  \n",
       "3                   0           652  \n",
       "4                   0            89  \n",
       "\n",
       "[5 rows x 23 columns]"
      ]
     },
     "execution_count": 44,
     "metadata": {},
     "output_type": "execute_result"
    }
   ],
   "source": [
    "train_df = train_df.merge(district_size, on='DistrictId', how='left')\n",
    "train_df.head()"
   ]
  },
  {
   "cell_type": "code",
   "execution_count": 45,
   "id": "d5486d42",
   "metadata": {},
   "outputs": [],
   "source": [
    "train_df['IsDistrictLarge'] = (train_df['DistrictSize'] > 100).astype(int)"
   ]
  },
  {
   "cell_type": "markdown",
   "id": "80a22238",
   "metadata": {
    "papermill": {
     "duration": 0.096844,
     "end_time": "2021-11-02T18:57:50.724697",
     "exception": false,
     "start_time": "2021-11-02T18:57:50.627853",
     "status": "completed"
    },
    "tags": []
   },
   "source": [
    "**MedianPriceByDistrict**"
   ]
  },
  {
   "cell_type": "code",
   "execution_count": 46,
   "id": "1b4307ee",
   "metadata": {
    "execution": {
     "iopub.execute_input": "2021-11-02T18:57:50.922812Z",
     "iopub.status.busy": "2021-11-02T18:57:50.922037Z",
     "iopub.status.idle": "2021-11-02T18:57:50.943330Z",
     "shell.execute_reply": "2021-11-02T18:57:50.942600Z",
     "shell.execute_reply.started": "2021-11-02T18:55:58.641535Z"
    },
    "papermill": {
     "duration": 0.123953,
     "end_time": "2021-11-02T18:57:50.943470",
     "exception": false,
     "start_time": "2021-11-02T18:57:50.819517",
     "status": "completed"
    },
    "tags": []
   },
   "outputs": [
    {
     "data": {
      "text/html": [
       "<div>\n",
       "<style scoped>\n",
       "    .dataframe tbody tr th:only-of-type {\n",
       "        vertical-align: middle;\n",
       "    }\n",
       "\n",
       "    .dataframe tbody tr th {\n",
       "        vertical-align: top;\n",
       "    }\n",
       "\n",
       "    .dataframe thead th {\n",
       "        text-align: right;\n",
       "    }\n",
       "</style>\n",
       "<table border=\"1\" class=\"dataframe\">\n",
       "  <thead>\n",
       "    <tr style=\"text-align: right;\">\n",
       "      <th></th>\n",
       "      <th>DistrictId</th>\n",
       "      <th>Rooms</th>\n",
       "      <th>MedianPriceByDistrict</th>\n",
       "    </tr>\n",
       "  </thead>\n",
       "  <tbody>\n",
       "    <tr>\n",
       "      <th>0</th>\n",
       "      <td>0</td>\n",
       "      <td>1.0</td>\n",
       "      <td>142799.434052</td>\n",
       "    </tr>\n",
       "    <tr>\n",
       "      <th>1</th>\n",
       "      <td>0</td>\n",
       "      <td>2.0</td>\n",
       "      <td>176210.812334</td>\n",
       "    </tr>\n",
       "    <tr>\n",
       "      <th>2</th>\n",
       "      <td>0</td>\n",
       "      <td>3.0</td>\n",
       "      <td>300610.359425</td>\n",
       "    </tr>\n",
       "    <tr>\n",
       "      <th>3</th>\n",
       "      <td>1</td>\n",
       "      <td>1.0</td>\n",
       "      <td>146735.671740</td>\n",
       "    </tr>\n",
       "    <tr>\n",
       "      <th>4</th>\n",
       "      <td>1</td>\n",
       "      <td>2.0</td>\n",
       "      <td>202666.310126</td>\n",
       "    </tr>\n",
       "  </tbody>\n",
       "</table>\n",
       "</div>"
      ],
      "text/plain": [
       "   DistrictId  Rooms  MedianPriceByDistrict\n",
       "0           0    1.0          142799.434052\n",
       "1           0    2.0          176210.812334\n",
       "2           0    3.0          300610.359425\n",
       "3           1    1.0          146735.671740\n",
       "4           1    2.0          202666.310126"
      ]
     },
     "execution_count": 46,
     "metadata": {},
     "output_type": "execute_result"
    }
   ],
   "source": [
    "med_price_by_district = train_df.groupby(['DistrictId', 'Rooms'], as_index=False).agg({'Price':'median'})\\\n",
    "                            .rename(columns={'Price':'MedianPriceByDistrict'})\n",
    "\n",
    "med_price_by_district.head()"
   ]
  },
  {
   "cell_type": "code",
   "execution_count": 47,
   "id": "132bda81",
   "metadata": {
    "execution": {
     "iopub.execute_input": "2021-11-02T18:57:51.135865Z",
     "iopub.status.busy": "2021-11-02T18:57:51.134773Z",
     "iopub.status.idle": "2021-11-02T18:57:51.141081Z",
     "shell.execute_reply": "2021-11-02T18:57:51.141786Z",
     "shell.execute_reply.started": "2021-11-02T18:55:58.668939Z"
    },
    "papermill": {
     "duration": 0.104206,
     "end_time": "2021-11-02T18:57:51.141946",
     "exception": false,
     "start_time": "2021-11-02T18:57:51.037740",
     "status": "completed"
    },
    "tags": []
   },
   "outputs": [
    {
     "data": {
      "text/plain": [
       "(667, 3)"
      ]
     },
     "execution_count": 47,
     "metadata": {},
     "output_type": "execute_result"
    }
   ],
   "source": [
    "med_price_by_district.shape"
   ]
  },
  {
   "cell_type": "code",
   "execution_count": 48,
   "id": "846a1169",
   "metadata": {
    "execution": {
     "iopub.execute_input": "2021-11-02T18:57:51.339415Z",
     "iopub.status.busy": "2021-11-02T18:57:51.338283Z",
     "iopub.status.idle": "2021-11-02T18:57:51.385701Z",
     "shell.execute_reply": "2021-11-02T18:57:51.385024Z",
     "shell.execute_reply.started": "2021-11-02T18:55:58.677189Z"
    },
    "papermill": {
     "duration": 0.148283,
     "end_time": "2021-11-02T18:57:51.385844",
     "exception": false,
     "start_time": "2021-11-02T18:57:51.237561",
     "status": "completed"
    },
    "tags": []
   },
   "outputs": [
    {
     "data": {
      "text/html": [
       "<div>\n",
       "<style scoped>\n",
       "    .dataframe tbody tr th:only-of-type {\n",
       "        vertical-align: middle;\n",
       "    }\n",
       "\n",
       "    .dataframe tbody tr th {\n",
       "        vertical-align: top;\n",
       "    }\n",
       "\n",
       "    .dataframe thead th {\n",
       "        text-align: right;\n",
       "    }\n",
       "</style>\n",
       "<table border=\"1\" class=\"dataframe\">\n",
       "  <thead>\n",
       "    <tr style=\"text-align: right;\">\n",
       "      <th></th>\n",
       "      <th>Id</th>\n",
       "      <th>DistrictId</th>\n",
       "      <th>Rooms</th>\n",
       "      <th>Square</th>\n",
       "      <th>LifeSquare</th>\n",
       "      <th>KitchenSquare</th>\n",
       "      <th>Floor</th>\n",
       "      <th>HouseFloor</th>\n",
       "      <th>HouseYear</th>\n",
       "      <th>Ecology_1</th>\n",
       "      <th>...</th>\n",
       "      <th>Helthcare_2</th>\n",
       "      <th>Shops_1</th>\n",
       "      <th>Shops_2</th>\n",
       "      <th>Price</th>\n",
       "      <th>Rooms_outlier</th>\n",
       "      <th>LifeSquare_nan</th>\n",
       "      <th>HouseFloor_outlier</th>\n",
       "      <th>DistrictSize</th>\n",
       "      <th>IsDistrictLarge</th>\n",
       "      <th>MedianPriceByDistrict</th>\n",
       "    </tr>\n",
       "  </thead>\n",
       "  <tbody>\n",
       "    <tr>\n",
       "      <th>0</th>\n",
       "      <td>11809</td>\n",
       "      <td>27</td>\n",
       "      <td>3.0</td>\n",
       "      <td>115.027311</td>\n",
       "      <td>105.027311</td>\n",
       "      <td>10.0</td>\n",
       "      <td>4</td>\n",
       "      <td>10.0</td>\n",
       "      <td>2014</td>\n",
       "      <td>0.075424</td>\n",
       "      <td>...</td>\n",
       "      <td>0</td>\n",
       "      <td>0</td>\n",
       "      <td>1</td>\n",
       "      <td>305018.871089</td>\n",
       "      <td>0</td>\n",
       "      <td>1</td>\n",
       "      <td>0</td>\n",
       "      <td>851</td>\n",
       "      <td>1</td>\n",
       "      <td>213530.788443</td>\n",
       "    </tr>\n",
       "    <tr>\n",
       "      <th>1</th>\n",
       "      <td>3013</td>\n",
       "      <td>22</td>\n",
       "      <td>1.0</td>\n",
       "      <td>39.832524</td>\n",
       "      <td>23.169223</td>\n",
       "      <td>8.0</td>\n",
       "      <td>7</td>\n",
       "      <td>8.0</td>\n",
       "      <td>1966</td>\n",
       "      <td>0.118537</td>\n",
       "      <td>...</td>\n",
       "      <td>1</td>\n",
       "      <td>0</td>\n",
       "      <td>1</td>\n",
       "      <td>177734.553407</td>\n",
       "      <td>0</td>\n",
       "      <td>0</td>\n",
       "      <td>0</td>\n",
       "      <td>78</td>\n",
       "      <td>0</td>\n",
       "      <td>146032.829834</td>\n",
       "    </tr>\n",
       "    <tr>\n",
       "      <th>2</th>\n",
       "      <td>8215</td>\n",
       "      <td>1</td>\n",
       "      <td>3.0</td>\n",
       "      <td>78.342215</td>\n",
       "      <td>47.671972</td>\n",
       "      <td>10.0</td>\n",
       "      <td>2</td>\n",
       "      <td>17.0</td>\n",
       "      <td>1988</td>\n",
       "      <td>0.025609</td>\n",
       "      <td>...</td>\n",
       "      <td>3</td>\n",
       "      <td>1</td>\n",
       "      <td>1</td>\n",
       "      <td>282078.720850</td>\n",
       "      <td>0</td>\n",
       "      <td>0</td>\n",
       "      <td>0</td>\n",
       "      <td>652</td>\n",
       "      <td>1</td>\n",
       "      <td>244005.272380</td>\n",
       "    </tr>\n",
       "    <tr>\n",
       "      <th>3</th>\n",
       "      <td>2352</td>\n",
       "      <td>1</td>\n",
       "      <td>1.0</td>\n",
       "      <td>40.409907</td>\n",
       "      <td>39.409907</td>\n",
       "      <td>4.0</td>\n",
       "      <td>10</td>\n",
       "      <td>22.0</td>\n",
       "      <td>1977</td>\n",
       "      <td>0.007122</td>\n",
       "      <td>...</td>\n",
       "      <td>0</td>\n",
       "      <td>1</td>\n",
       "      <td>1</td>\n",
       "      <td>168106.007630</td>\n",
       "      <td>0</td>\n",
       "      <td>1</td>\n",
       "      <td>0</td>\n",
       "      <td>652</td>\n",
       "      <td>1</td>\n",
       "      <td>146735.671740</td>\n",
       "    </tr>\n",
       "    <tr>\n",
       "      <th>4</th>\n",
       "      <td>13866</td>\n",
       "      <td>94</td>\n",
       "      <td>2.0</td>\n",
       "      <td>64.285067</td>\n",
       "      <td>38.562517</td>\n",
       "      <td>9.0</td>\n",
       "      <td>16</td>\n",
       "      <td>16.0</td>\n",
       "      <td>1972</td>\n",
       "      <td>0.282798</td>\n",
       "      <td>...</td>\n",
       "      <td>0</td>\n",
       "      <td>6</td>\n",
       "      <td>1</td>\n",
       "      <td>343995.102962</td>\n",
       "      <td>0</td>\n",
       "      <td>0</td>\n",
       "      <td>0</td>\n",
       "      <td>89</td>\n",
       "      <td>0</td>\n",
       "      <td>201584.441255</td>\n",
       "    </tr>\n",
       "  </tbody>\n",
       "</table>\n",
       "<p>5 rows × 25 columns</p>\n",
       "</div>"
      ],
      "text/plain": [
       "      Id  DistrictId  Rooms      Square  LifeSquare  KitchenSquare  Floor  \\\n",
       "0  11809          27    3.0  115.027311  105.027311           10.0      4   \n",
       "1   3013          22    1.0   39.832524   23.169223            8.0      7   \n",
       "2   8215           1    3.0   78.342215   47.671972           10.0      2   \n",
       "3   2352           1    1.0   40.409907   39.409907            4.0     10   \n",
       "4  13866          94    2.0   64.285067   38.562517            9.0     16   \n",
       "\n",
       "   HouseFloor  HouseYear  Ecology_1  ...  Helthcare_2  Shops_1  Shops_2  \\\n",
       "0        10.0       2014   0.075424  ...            0        0        1   \n",
       "1         8.0       1966   0.118537  ...            1        0        1   \n",
       "2        17.0       1988   0.025609  ...            3        1        1   \n",
       "3        22.0       1977   0.007122  ...            0        1        1   \n",
       "4        16.0       1972   0.282798  ...            0        6        1   \n",
       "\n",
       "           Price  Rooms_outlier  LifeSquare_nan  HouseFloor_outlier  \\\n",
       "0  305018.871089              0               1                   0   \n",
       "1  177734.553407              0               0                   0   \n",
       "2  282078.720850              0               0                   0   \n",
       "3  168106.007630              0               1                   0   \n",
       "4  343995.102962              0               0                   0   \n",
       "\n",
       "   DistrictSize  IsDistrictLarge  MedianPriceByDistrict  \n",
       "0           851                1          213530.788443  \n",
       "1            78                0          146032.829834  \n",
       "2           652                1          244005.272380  \n",
       "3           652                1          146735.671740  \n",
       "4            89                0          201584.441255  \n",
       "\n",
       "[5 rows x 25 columns]"
      ]
     },
     "execution_count": 48,
     "metadata": {},
     "output_type": "execute_result"
    }
   ],
   "source": [
    "train_df = train_df.merge(med_price_by_district, on=['DistrictId', 'Rooms'], how='left')\n",
    "train_df.head()"
   ]
  },
  {
   "cell_type": "code",
   "execution_count": 49,
   "id": "40a25db9",
   "metadata": {
    "execution": {
     "iopub.execute_input": "2021-11-02T18:57:53.184521Z",
     "iopub.status.busy": "2021-11-02T18:57:53.162711Z",
     "iopub.status.idle": "2021-11-02T18:57:53.195490Z",
     "shell.execute_reply": "2021-11-02T18:57:53.194831Z",
     "shell.execute_reply.started": "2021-11-02T18:56:32.247567Z"
    },
    "papermill": {
     "duration": 0.135049,
     "end_time": "2021-11-02T18:57:53.195626",
     "exception": false,
     "start_time": "2021-11-02T18:57:53.060577",
     "status": "completed"
    },
    "tags": []
   },
   "outputs": [],
   "source": [
    "class FeatureGenetator():\n",
    "    \"\"\"Генерация новых фич\"\"\"\n",
    "    \n",
    "    def __init__(self):\n",
    "        self.DistrictId_counts = None\n",
    "        self.binary_to_numbers = None\n",
    "        self.med_price_by_district = None\n",
    "        self.district_size = None\n",
    "        \n",
    "    def fit(self, X, y=None):\n",
    "        \n",
    "        X = X.copy()\n",
    "        \n",
    "        # Binary features\n",
    "        self.binary_to_numbers = {'A': 0, 'B': 1}\n",
    "        \n",
    "        # DistrictID\n",
    "        self.district_size = X['DistrictId'].value_counts().reset_index() \\\n",
    "                               .rename(columns={'index':'DistrictId', 'DistrictId':'DistrictSize'})\n",
    "                \n",
    "        # Target encoding\n",
    "        ## District, Rooms\n",
    "        df = X.copy()\n",
    "        \n",
    "        if y is not None:\n",
    "            df['Price'] = y.values\n",
    "            \n",
    "            self.med_price_by_district = df.groupby(['DistrictId', 'Rooms'], as_index=False).agg({'Price':'median'})\\\n",
    "                                            .rename(columns={'Price':'MedianPriceByDistrict'})\n",
    "            \n",
    "            self.med_price_by_district_median = self.med_price_by_district['MedianPriceByDistrict'].median()\n",
    "        \n",
    "    def transform(self, X):\n",
    "        \n",
    "        # Binary features\n",
    "        X['Ecology_2'] = X['Ecology_2'].map(self.binary_to_numbers)  # self.binary_to_numbers = {'A': 0, 'B': 1}\n",
    "        X['Ecology_3'] = X['Ecology_3'].map(self.binary_to_numbers)\n",
    "        X['Shops_2'] = X['Shops_2'].map(self.binary_to_numbers)\n",
    "        \n",
    "        # DistrictId, IsDistrictLarge\n",
    "        X = X.merge(self.district_size, on='DistrictId', how='left')\n",
    "        \n",
    "        X['new_district'] = 0\n",
    "        X.loc[X['DistrictSize'].isna(), 'new_district'] = 1\n",
    "        \n",
    "        X['DistrictSize'].fillna(5, inplace=True)\n",
    "        \n",
    "        X['IsDistrictLarge'] = (X['DistrictSize'] > 100).astype(int)\n",
    "        \n",
    "        # Target encoding\n",
    "        if self.med_price_by_district is not None:\n",
    "            X = X.merge(self.med_price_by_district, on=['DistrictId', 'Rooms'], how='left')\n",
    "            X['MedianPriceByDistrict'].fillna(self.med_price_by_district_median, inplace=True)\n",
    "        \n",
    "        return X"
   ]
  },
  {
   "cell_type": "markdown",
   "id": "0cff4f62",
   "metadata": {
    "papermill": {
     "duration": 0.100171,
     "end_time": "2021-11-02T18:57:53.394970",
     "exception": false,
     "start_time": "2021-11-02T18:57:53.294799",
     "status": "completed"
    },
    "tags": []
   },
   "source": [
    "### Отбор признаков"
   ]
  },
  {
   "cell_type": "code",
   "execution_count": 50,
   "id": "59e27fa0",
   "metadata": {
    "execution": {
     "iopub.execute_input": "2021-11-02T18:57:53.599878Z",
     "iopub.status.busy": "2021-11-02T18:57:53.599146Z",
     "iopub.status.idle": "2021-11-02T18:57:53.602627Z",
     "shell.execute_reply": "2021-11-02T18:57:53.603152Z",
     "shell.execute_reply.started": "2021-11-02T18:56:32.600703Z"
    },
    "papermill": {
     "duration": 0.109332,
     "end_time": "2021-11-02T18:57:53.603350",
     "exception": false,
     "start_time": "2021-11-02T18:57:53.494018",
     "status": "completed"
    },
    "tags": []
   },
   "outputs": [
    {
     "data": {
      "text/plain": [
       "['Id',\n",
       " 'DistrictId',\n",
       " 'Rooms',\n",
       " 'Square',\n",
       " 'LifeSquare',\n",
       " 'KitchenSquare',\n",
       " 'Floor',\n",
       " 'HouseFloor',\n",
       " 'HouseYear',\n",
       " 'Ecology_1',\n",
       " 'Ecology_2',\n",
       " 'Ecology_3',\n",
       " 'Social_1',\n",
       " 'Social_2',\n",
       " 'Social_3',\n",
       " 'Helthcare_2',\n",
       " 'Shops_1',\n",
       " 'Shops_2',\n",
       " 'Price',\n",
       " 'Rooms_outlier',\n",
       " 'LifeSquare_nan',\n",
       " 'HouseFloor_outlier',\n",
       " 'DistrictSize',\n",
       " 'IsDistrictLarge',\n",
       " 'MedianPriceByDistrict']"
      ]
     },
     "execution_count": 50,
     "metadata": {},
     "output_type": "execute_result"
    }
   ],
   "source": [
    "train_df.columns.tolist()"
   ]
  },
  {
   "cell_type": "code",
   "execution_count": 51,
   "id": "08a1dfe5",
   "metadata": {
    "execution": {
     "iopub.execute_input": "2021-11-02T18:57:53.810425Z",
     "iopub.status.busy": "2021-11-02T18:57:53.809642Z",
     "iopub.status.idle": "2021-11-02T18:57:53.813014Z",
     "shell.execute_reply": "2021-11-02T18:57:53.812258Z",
     "shell.execute_reply.started": "2021-11-02T18:56:33.165715Z"
    },
    "papermill": {
     "duration": 0.110044,
     "end_time": "2021-11-02T18:57:53.813158",
     "exception": false,
     "start_time": "2021-11-02T18:57:53.703114",
     "status": "completed"
    },
    "tags": []
   },
   "outputs": [],
   "source": [
    "feature_names = ['Rooms', 'Square', 'LifeSquare', 'KitchenSquare', 'Floor', 'HouseFloor', 'HouseYear',\n",
    "                 'Ecology_1', 'Ecology_2', 'Ecology_3', 'Social_1', 'Social_2', 'Social_3',\n",
    "                 'Helthcare_2', 'Shops_1', 'Shops_2']\n",
    "\n",
    "new_feature_names = ['Rooms_outlier', 'LifeSquare_nan', 'HouseFloor_outlier', 'DistrictSize', \n",
    "                     'IsDistrictLarge', 'MedianPriceByDistrict']\n",
    "\n",
    "target_name = 'Price'"
   ]
  },
  {
   "cell_type": "markdown",
   "id": "285b2d55",
   "metadata": {
    "papermill": {
     "duration": 0.098501,
     "end_time": "2021-11-02T18:57:54.011409",
     "exception": false,
     "start_time": "2021-11-02T18:57:53.912908",
     "status": "completed"
    },
    "tags": []
   },
   "source": [
    "### Разбиение на train и test"
   ]
  },
  {
   "cell_type": "code",
   "execution_count": 52,
   "id": "ce3043ec",
   "metadata": {
    "execution": {
     "iopub.execute_input": "2021-11-02T18:57:54.212449Z",
     "iopub.status.busy": "2021-11-02T18:57:54.211717Z",
     "iopub.status.idle": "2021-11-02T18:57:54.270468Z",
     "shell.execute_reply": "2021-11-02T18:57:54.269834Z",
     "shell.execute_reply.started": "2021-11-02T18:56:33.585536Z"
    },
    "papermill": {
     "duration": 0.160864,
     "end_time": "2021-11-02T18:57:54.270605",
     "exception": false,
     "start_time": "2021-11-02T18:57:54.109741",
     "status": "completed"
    },
    "tags": []
   },
   "outputs": [],
   "source": [
    "train_df = pd.read_csv(TRAIN_DATASET_PATH)\n",
    "test_df = pd.read_csv(TEST_DATASET_PATH)\n",
    "\n",
    "X = train_df.drop(columns=target_name)\n",
    "y = train_df[target_name]"
   ]
  },
  {
   "cell_type": "code",
   "execution_count": 53,
   "id": "e82a54cd",
   "metadata": {
    "execution": {
     "iopub.execute_input": "2021-11-02T18:57:54.470086Z",
     "iopub.status.busy": "2021-11-02T18:57:54.469385Z",
     "iopub.status.idle": "2021-11-02T18:57:54.477767Z",
     "shell.execute_reply": "2021-11-02T18:57:54.478432Z",
     "shell.execute_reply.started": "2021-11-02T18:56:33.637105Z"
    },
    "papermill": {
     "duration": 0.109812,
     "end_time": "2021-11-02T18:57:54.478594",
     "exception": false,
     "start_time": "2021-11-02T18:57:54.368782",
     "status": "completed"
    },
    "tags": []
   },
   "outputs": [],
   "source": [
    "X_train, X_valid, y_train, y_valid = train_test_split(X, y, test_size=0.33, shuffle=True, random_state=21)"
   ]
  },
  {
   "cell_type": "code",
   "execution_count": 54,
   "id": "822e9412",
   "metadata": {
    "execution": {
     "iopub.execute_input": "2021-11-02T18:57:54.676682Z",
     "iopub.status.busy": "2021-11-02T18:57:54.675914Z",
     "iopub.status.idle": "2021-11-02T18:57:54.771495Z",
     "shell.execute_reply": "2021-11-02T18:57:54.770709Z",
     "shell.execute_reply.started": "2021-11-02T18:56:33.910585Z"
    },
    "papermill": {
     "duration": 0.195912,
     "end_time": "2021-11-02T18:57:54.771632",
     "exception": false,
     "start_time": "2021-11-02T18:57:54.575720",
     "status": "completed"
    },
    "tags": []
   },
   "outputs": [
    {
     "data": {
      "text/plain": [
       "((6700, 22), (3300, 22), (5000, 22))"
      ]
     },
     "execution_count": 54,
     "metadata": {},
     "output_type": "execute_result"
    }
   ],
   "source": [
    "preprocessor = DataPreprocessing()\n",
    "preprocessor.fit(X_train)\n",
    "\n",
    "X_train = preprocessor.transform(X_train)\n",
    "X_valid = preprocessor.transform(X_valid)\n",
    "test_df = preprocessor.transform(test_df)\n",
    "\n",
    "X_train.shape, X_valid.shape, test_df.shape"
   ]
  },
  {
   "cell_type": "code",
   "execution_count": 55,
   "id": "a9c79105",
   "metadata": {
    "execution": {
     "iopub.execute_input": "2021-11-02T18:57:54.976627Z",
     "iopub.status.busy": "2021-11-02T18:57:54.975853Z",
     "iopub.status.idle": "2021-11-02T18:57:55.113878Z",
     "shell.execute_reply": "2021-11-02T18:57:55.113100Z",
     "shell.execute_reply.started": "2021-11-02T18:56:34.216069Z"
    },
    "papermill": {
     "duration": 0.24336,
     "end_time": "2021-11-02T18:57:55.114019",
     "exception": false,
     "start_time": "2021-11-02T18:57:54.870659",
     "status": "completed"
    },
    "tags": []
   },
   "outputs": [
    {
     "data": {
      "text/plain": [
       "((6700, 26), (3300, 26), (5000, 26))"
      ]
     },
     "execution_count": 55,
     "metadata": {},
     "output_type": "execute_result"
    }
   ],
   "source": [
    "features_gen = FeatureGenetator()\n",
    "features_gen.fit(X_train, y_train)\n",
    "\n",
    "X_train = features_gen.transform(X_train)\n",
    "X_valid = features_gen.transform(X_valid)\n",
    "test_df = features_gen.transform(test_df)\n",
    "\n",
    "X_train.shape, X_valid.shape, test_df.shape"
   ]
  },
  {
   "cell_type": "markdown",
   "id": "f2f9f791",
   "metadata": {
    "papermill": {
     "duration": 0.098309,
     "end_time": "2021-11-02T18:57:55.743721",
     "exception": false,
     "start_time": "2021-11-02T18:57:55.645412",
     "status": "completed"
    },
    "tags": []
   },
   "source": [
    "### Построение модели"
   ]
  },
  {
   "cell_type": "markdown",
   "id": "646e717b",
   "metadata": {
    "papermill": {
     "duration": 0.09919,
     "end_time": "2021-11-02T18:57:55.942611",
     "exception": false,
     "start_time": "2021-11-02T18:57:55.843421",
     "status": "completed"
    },
    "tags": []
   },
   "source": [
    "**Обучение**"
   ]
  },
  {
   "cell_type": "code",
   "execution_count": 56,
   "id": "8893da33",
   "metadata": {
    "execution": {
     "iopub.execute_input": "2021-11-02T18:57:56.147126Z",
     "iopub.status.busy": "2021-11-02T18:57:56.145727Z",
     "iopub.status.idle": "2021-11-02T18:58:01.381615Z",
     "shell.execute_reply": "2021-11-02T18:58:01.380957Z",
     "shell.execute_reply.started": "2021-11-02T18:56:35.455936Z"
    },
    "papermill": {
     "duration": 5.337944,
     "end_time": "2021-11-02T18:58:01.381750",
     "exception": false,
     "start_time": "2021-11-02T18:57:56.043806",
     "status": "completed"
    },
    "tags": []
   },
   "outputs": [
    {
     "data": {
      "text/plain": [
       "RandomForestRegressor(criterion='mse', random_state=21)"
      ]
     },
     "execution_count": 56,
     "metadata": {},
     "output_type": "execute_result"
    }
   ],
   "source": [
    "rf_model = RandomForestRegressor(random_state=21, criterion='mse')\n",
    "rf_model.fit(X_train, y_train)"
   ]
  },
  {
   "cell_type": "markdown",
   "id": "12cc7aca",
   "metadata": {
    "papermill": {
     "duration": 0.099481,
     "end_time": "2021-11-02T18:58:01.581501",
     "exception": false,
     "start_time": "2021-11-02T18:58:01.482020",
     "status": "completed"
    },
    "tags": []
   },
   "source": [
    "**Оценка модели**"
   ]
  },
  {
   "cell_type": "code",
   "execution_count": 57,
   "id": "54839c19",
   "metadata": {
    "execution": {
     "iopub.execute_input": "2021-11-02T18:58:01.785374Z",
     "iopub.status.busy": "2021-11-02T18:58:01.784657Z",
     "iopub.status.idle": "2021-11-02T18:58:02.507635Z",
     "shell.execute_reply": "2021-11-02T18:58:02.508222Z",
     "shell.execute_reply.started": "2021-11-02T18:56:41.161170Z"
    },
    "papermill": {
     "duration": 0.827745,
     "end_time": "2021-11-02T18:58:02.508381",
     "exception": false,
     "start_time": "2021-11-02T18:58:01.680636",
     "status": "completed"
    },
    "tags": []
   },
   "outputs": [
    {
     "name": "stdout",
     "output_type": "stream",
     "text": [
      "Train R2:\t0.966\n",
      "Test R2:\t0.698\n"
     ]
    },
    {
     "data": {
      "image/png": "[encoded data removed]",
      "text/plain": [
       "<Figure size 1296x720 with 2 Axes>"
      ]
     },
     "metadata": {
      "needs_background": "light"
     },
     "output_type": "display_data"
    }
   ],
   "source": [
    "y_train_preds = rf_model.predict(X_train)\n",
    "y_test_preds = rf_model.predict(X_valid)\n",
    "\n",
    "evaluate_preds(y_train, y_train_preds, y_valid, y_test_preds)"
   ]
  },
  {
   "cell_type": "markdown",
   "id": "35718e07",
   "metadata": {
    "papermill": {
     "duration": 0.103517,
     "end_time": "2021-11-02T18:58:02.715285",
     "exception": false,
     "start_time": "2021-11-02T18:58:02.611768",
     "status": "completed"
    },
    "tags": []
   },
   "source": [
    "**Кросс-валидация**"
   ]
  },
  {
   "cell_type": "code",
   "execution_count": 58,
   "id": "2e9d85a0",
   "metadata": {
    "execution": {
     "iopub.execute_input": "2021-11-02T18:58:02.959476Z",
     "iopub.status.busy": "2021-11-02T18:58:02.958726Z",
     "iopub.status.idle": "2021-11-02T18:58:13.354976Z",
     "shell.execute_reply": "2021-11-02T18:58:13.354248Z",
     "shell.execute_reply.started": "2021-11-02T18:56:41.773768Z"
    },
    "papermill": {
     "duration": 10.506568,
     "end_time": "2021-11-02T18:58:13.355115",
     "exception": false,
     "start_time": "2021-11-02T18:58:02.848547",
     "status": "completed"
    },
    "tags": []
   },
   "outputs": [
    {
     "data": {
      "text/plain": [
       "array([0.76815718, 0.72594463, 0.74625495])"
      ]
     },
     "execution_count": 58,
     "metadata": {},
     "output_type": "execute_result"
    }
   ],
   "source": [
    "cv_score = cross_val_score(rf_model, X_train, y_train, scoring='r2', cv=KFold(n_splits=3, shuffle=True, random_state=21))\n",
    "cv_score"
   ]
  },
  {
   "cell_type": "code",
   "execution_count": 59,
   "id": "d1e847da",
   "metadata": {
    "execution": {
     "iopub.execute_input": "2021-11-02T18:58:13.570331Z",
     "iopub.status.busy": "2021-11-02T18:58:13.569608Z",
     "iopub.status.idle": "2021-11-02T18:58:13.576760Z",
     "shell.execute_reply": "2021-11-02T18:58:13.576159Z",
     "shell.execute_reply.started": "2021-11-02T18:56:53.343689Z"
    },
    "papermill": {
     "duration": 0.114841,
     "end_time": "2021-11-02T18:58:13.576904",
     "exception": false,
     "start_time": "2021-11-02T18:58:13.462063",
     "status": "completed"
    },
    "tags": []
   },
   "outputs": [
    {
     "data": {
      "text/plain": [
       "0.7467855846796067"
      ]
     },
     "execution_count": 59,
     "metadata": {},
     "output_type": "execute_result"
    }
   ],
   "source": [
    "cv_score.mean()"
   ]
  },
  {
   "cell_type": "markdown",
   "id": "1fce6c4a",
   "metadata": {
    "papermill": {
     "duration": 0.137715,
     "end_time": "2021-11-02T18:58:13.819264",
     "exception": false,
     "start_time": "2021-11-02T18:58:13.681549",
     "status": "completed"
    },
    "tags": []
   },
   "source": [
    "**Важность признаков**"
   ]
  },
  {
   "cell_type": "code",
   "execution_count": 60,
   "id": "a70b5c9e",
   "metadata": {
    "execution": {
     "iopub.execute_input": "2021-11-02T18:58:14.045336Z",
     "iopub.status.busy": "2021-11-02T18:58:14.044149Z",
     "iopub.status.idle": "2021-11-02T18:58:14.088603Z",
     "shell.execute_reply": "2021-11-02T18:58:14.087882Z",
     "shell.execute_reply.started": "2021-11-02T18:56:53.352974Z"
    },
    "papermill": {
     "duration": 0.156579,
     "end_time": "2021-11-02T18:58:14.088729",
     "exception": false,
     "start_time": "2021-11-02T18:58:13.932150",
     "status": "completed"
    },
    "tags": []
   },
   "outputs": [
    {
     "data": {
      "text/html": [
       "<div>\n",
       "<style scoped>\n",
       "    .dataframe tbody tr th:only-of-type {\n",
       "        vertical-align: middle;\n",
       "    }\n",
       "\n",
       "    .dataframe tbody tr th {\n",
       "        vertical-align: top;\n",
       "    }\n",
       "\n",
       "    .dataframe thead th {\n",
       "        text-align: right;\n",
       "    }\n",
       "</style>\n",
       "<table border=\"1\" class=\"dataframe\">\n",
       "  <thead>\n",
       "    <tr style=\"text-align: right;\">\n",
       "      <th></th>\n",
       "      <th>feature_name</th>\n",
       "      <th>importance</th>\n",
       "    </tr>\n",
       "  </thead>\n",
       "  <tbody>\n",
       "    <tr>\n",
       "      <th>25</th>\n",
       "      <td>MedianPriceByDistrict</td>\n",
       "      <td>6.474439e-01</td>\n",
       "    </tr>\n",
       "    <tr>\n",
       "      <th>3</th>\n",
       "      <td>Square</td>\n",
       "      <td>1.042745e-01</td>\n",
       "    </tr>\n",
       "    <tr>\n",
       "      <th>4</th>\n",
       "      <td>LifeSquare</td>\n",
       "      <td>3.314479e-02</td>\n",
       "    </tr>\n",
       "    <tr>\n",
       "      <th>8</th>\n",
       "      <td>HouseYear</td>\n",
       "      <td>2.291076e-02</td>\n",
       "    </tr>\n",
       "    <tr>\n",
       "      <th>0</th>\n",
       "      <td>Id</td>\n",
       "      <td>2.172384e-02</td>\n",
       "    </tr>\n",
       "    <tr>\n",
       "      <th>7</th>\n",
       "      <td>HouseFloor</td>\n",
       "      <td>2.156767e-02</td>\n",
       "    </tr>\n",
       "    <tr>\n",
       "      <th>14</th>\n",
       "      <td>Social_3</td>\n",
       "      <td>1.931278e-02</td>\n",
       "    </tr>\n",
       "    <tr>\n",
       "      <th>22</th>\n",
       "      <td>DistrictSize</td>\n",
       "      <td>1.854000e-02</td>\n",
       "    </tr>\n",
       "    <tr>\n",
       "      <th>5</th>\n",
       "      <td>KitchenSquare</td>\n",
       "      <td>1.785511e-02</td>\n",
       "    </tr>\n",
       "    <tr>\n",
       "      <th>6</th>\n",
       "      <td>Floor</td>\n",
       "      <td>1.739353e-02</td>\n",
       "    </tr>\n",
       "    <tr>\n",
       "      <th>9</th>\n",
       "      <td>Ecology_1</td>\n",
       "      <td>1.408617e-02</td>\n",
       "    </tr>\n",
       "    <tr>\n",
       "      <th>13</th>\n",
       "      <td>Social_2</td>\n",
       "      <td>1.403146e-02</td>\n",
       "    </tr>\n",
       "    <tr>\n",
       "      <th>12</th>\n",
       "      <td>Social_1</td>\n",
       "      <td>1.330689e-02</td>\n",
       "    </tr>\n",
       "    <tr>\n",
       "      <th>1</th>\n",
       "      <td>DistrictId</td>\n",
       "      <td>1.150455e-02</td>\n",
       "    </tr>\n",
       "    <tr>\n",
       "      <th>16</th>\n",
       "      <td>Shops_1</td>\n",
       "      <td>7.413170e-03</td>\n",
       "    </tr>\n",
       "    <tr>\n",
       "      <th>15</th>\n",
       "      <td>Helthcare_2</td>\n",
       "      <td>5.291219e-03</td>\n",
       "    </tr>\n",
       "    <tr>\n",
       "      <th>2</th>\n",
       "      <td>Rooms</td>\n",
       "      <td>4.785103e-03</td>\n",
       "    </tr>\n",
       "    <tr>\n",
       "      <th>20</th>\n",
       "      <td>HouseFloor_outlier</td>\n",
       "      <td>1.559525e-03</td>\n",
       "    </tr>\n",
       "    <tr>\n",
       "      <th>11</th>\n",
       "      <td>Ecology_3</td>\n",
       "      <td>1.116436e-03</td>\n",
       "    </tr>\n",
       "    <tr>\n",
       "      <th>19</th>\n",
       "      <td>LifeSquare_nan</td>\n",
       "      <td>8.902048e-04</td>\n",
       "    </tr>\n",
       "    <tr>\n",
       "      <th>17</th>\n",
       "      <td>Shops_2</td>\n",
       "      <td>8.020452e-04</td>\n",
       "    </tr>\n",
       "    <tr>\n",
       "      <th>24</th>\n",
       "      <td>IsDistrictLarge</td>\n",
       "      <td>7.063182e-04</td>\n",
       "    </tr>\n",
       "    <tr>\n",
       "      <th>10</th>\n",
       "      <td>Ecology_2</td>\n",
       "      <td>2.851212e-04</td>\n",
       "    </tr>\n",
       "    <tr>\n",
       "      <th>18</th>\n",
       "      <td>Rooms_outlier</td>\n",
       "      <td>5.461814e-05</td>\n",
       "    </tr>\n",
       "    <tr>\n",
       "      <th>21</th>\n",
       "      <td>HouseYear_outlier</td>\n",
       "      <td>2.953068e-07</td>\n",
       "    </tr>\n",
       "    <tr>\n",
       "      <th>23</th>\n",
       "      <td>new_district</td>\n",
       "      <td>0.000000e+00</td>\n",
       "    </tr>\n",
       "  </tbody>\n",
       "</table>\n",
       "</div>"
      ],
      "text/plain": [
       "             feature_name    importance\n",
       "25  MedianPriceByDistrict  6.474439e-01\n",
       "3                  Square  1.042745e-01\n",
       "4              LifeSquare  3.314479e-02\n",
       "8               HouseYear  2.291076e-02\n",
       "0                      Id  2.172384e-02\n",
       "7              HouseFloor  2.156767e-02\n",
       "14               Social_3  1.931278e-02\n",
       "22           DistrictSize  1.854000e-02\n",
       "5           KitchenSquare  1.785511e-02\n",
       "6                   Floor  1.739353e-02\n",
       "9               Ecology_1  1.408617e-02\n",
       "13               Social_2  1.403146e-02\n",
       "12               Social_1  1.330689e-02\n",
       "1              DistrictId  1.150455e-02\n",
       "16                Shops_1  7.413170e-03\n",
       "15            Helthcare_2  5.291219e-03\n",
       "2                   Rooms  4.785103e-03\n",
       "20     HouseFloor_outlier  1.559525e-03\n",
       "11              Ecology_3  1.116436e-03\n",
       "19         LifeSquare_nan  8.902048e-04\n",
       "17                Shops_2  8.020452e-04\n",
       "24        IsDistrictLarge  7.063182e-04\n",
       "10              Ecology_2  2.851212e-04\n",
       "18          Rooms_outlier  5.461814e-05\n",
       "21      HouseYear_outlier  2.953068e-07\n",
       "23           new_district  0.000000e+00"
      ]
     },
     "execution_count": 60,
     "metadata": {},
     "output_type": "execute_result"
    }
   ],
   "source": [
    "feature_importances = pd.DataFrame(zip(X_train.columns, rf_model.feature_importances_), \n",
    "                                   columns=['feature_name', 'importance'])\n",
    "\n",
    "feature_importances.sort_values(by='importance', ascending=False)"
   ]
  },
  {
   "cell_type": "markdown",
   "id": "0429e1a8",
   "metadata": {
    "papermill": {
     "duration": 0.109678,
     "end_time": "2021-11-02T18:58:42.372761",
     "exception": false,
     "start_time": "2021-11-02T18:58:42.263083",
     "status": "completed"
    },
    "tags": []
   },
   "source": [
    "### Прогнозирование на тестовом датасете"
   ]
  },
  {
   "cell_type": "code",
   "execution_count": 61,
   "id": "22005a93",
   "metadata": {
    "execution": {
     "iopub.execute_input": "2021-11-02T18:58:42.596588Z",
     "iopub.status.busy": "2021-11-02T18:58:42.595865Z",
     "iopub.status.idle": "2021-11-02T18:58:42.603148Z",
     "shell.execute_reply": "2021-11-02T18:58:42.602421Z"
    },
    "papermill": {
     "duration": 0.120443,
     "end_time": "2021-11-02T18:58:42.603324",
     "exception": false,
     "start_time": "2021-11-02T18:58:42.482881",
     "status": "completed"
    },
    "tags": []
   },
   "outputs": [
    {
     "data": {
      "text/plain": [
       "(5000, 26)"
      ]
     },
     "execution_count": 61,
     "metadata": {},
     "output_type": "execute_result"
    }
   ],
   "source": [
    "test_df.shape"
   ]
  },
  {
   "cell_type": "code",
   "execution_count": 62,
   "id": "892b4dd7",
   "metadata": {
    "execution": {
     "iopub.execute_input": "2021-11-02T18:58:42.832634Z",
     "iopub.status.busy": "2021-11-02T18:58:42.831852Z",
     "iopub.status.idle": "2021-11-02T18:58:42.878655Z",
     "shell.execute_reply": "2021-11-02T18:58:42.877925Z"
    },
    "papermill": {
     "duration": 0.16475,
     "end_time": "2021-11-02T18:58:42.878795",
     "exception": false,
     "start_time": "2021-11-02T18:58:42.714045",
     "status": "completed"
    },
    "tags": []
   },
   "outputs": [
    {
     "data": {
      "text/html": [
       "<div>\n",
       "<style scoped>\n",
       "    .dataframe tbody tr th:only-of-type {\n",
       "        vertical-align: middle;\n",
       "    }\n",
       "\n",
       "    .dataframe tbody tr th {\n",
       "        vertical-align: top;\n",
       "    }\n",
       "\n",
       "    .dataframe thead th {\n",
       "        text-align: right;\n",
       "    }\n",
       "</style>\n",
       "<table border=\"1\" class=\"dataframe\">\n",
       "  <thead>\n",
       "    <tr style=\"text-align: right;\">\n",
       "      <th></th>\n",
       "      <th>Id</th>\n",
       "      <th>DistrictId</th>\n",
       "      <th>Rooms</th>\n",
       "      <th>Square</th>\n",
       "      <th>LifeSquare</th>\n",
       "      <th>KitchenSquare</th>\n",
       "      <th>Floor</th>\n",
       "      <th>HouseFloor</th>\n",
       "      <th>HouseYear</th>\n",
       "      <th>Ecology_1</th>\n",
       "      <th>...</th>\n",
       "      <th>Shops_1</th>\n",
       "      <th>Shops_2</th>\n",
       "      <th>Rooms_outlier</th>\n",
       "      <th>LifeSquare_nan</th>\n",
       "      <th>HouseFloor_outlier</th>\n",
       "      <th>HouseYear_outlier</th>\n",
       "      <th>DistrictSize</th>\n",
       "      <th>new_district</th>\n",
       "      <th>IsDistrictLarge</th>\n",
       "      <th>MedianPriceByDistrict</th>\n",
       "    </tr>\n",
       "  </thead>\n",
       "  <tbody>\n",
       "    <tr>\n",
       "      <th>0</th>\n",
       "      <td>4567</td>\n",
       "      <td>44</td>\n",
       "      <td>1.0</td>\n",
       "      <td>36.847630</td>\n",
       "      <td>19.094182</td>\n",
       "      <td>5.0</td>\n",
       "      <td>5</td>\n",
       "      <td>9.0</td>\n",
       "      <td>1970</td>\n",
       "      <td>0.036122</td>\n",
       "      <td>...</td>\n",
       "      <td>1</td>\n",
       "      <td>1</td>\n",
       "      <td>0</td>\n",
       "      <td>0</td>\n",
       "      <td>0</td>\n",
       "      <td>0</td>\n",
       "      <td>76.0</td>\n",
       "      <td>0</td>\n",
       "      <td>0</td>\n",
       "      <td>171145.169069</td>\n",
       "    </tr>\n",
       "    <tr>\n",
       "      <th>1</th>\n",
       "      <td>5925</td>\n",
       "      <td>62</td>\n",
       "      <td>1.0</td>\n",
       "      <td>42.493907</td>\n",
       "      <td>42.568133</td>\n",
       "      <td>10.0</td>\n",
       "      <td>7</td>\n",
       "      <td>17.0</td>\n",
       "      <td>2017</td>\n",
       "      <td>0.072158</td>\n",
       "      <td>...</td>\n",
       "      <td>0</td>\n",
       "      <td>0</td>\n",
       "      <td>0</td>\n",
       "      <td>0</td>\n",
       "      <td>0</td>\n",
       "      <td>0</td>\n",
       "      <td>164.0</td>\n",
       "      <td>0</td>\n",
       "      <td>1</td>\n",
       "      <td>131107.271962</td>\n",
       "    </tr>\n",
       "    <tr>\n",
       "      <th>2</th>\n",
       "      <td>960</td>\n",
       "      <td>27</td>\n",
       "      <td>2.0</td>\n",
       "      <td>59.463678</td>\n",
       "      <td>50.463678</td>\n",
       "      <td>9.0</td>\n",
       "      <td>19</td>\n",
       "      <td>19.0</td>\n",
       "      <td>1977</td>\n",
       "      <td>0.211401</td>\n",
       "      <td>...</td>\n",
       "      <td>1</td>\n",
       "      <td>1</td>\n",
       "      <td>0</td>\n",
       "      <td>1</td>\n",
       "      <td>0</td>\n",
       "      <td>0</td>\n",
       "      <td>580.0</td>\n",
       "      <td>0</td>\n",
       "      <td>1</td>\n",
       "      <td>165993.292450</td>\n",
       "    </tr>\n",
       "    <tr>\n",
       "      <th>3</th>\n",
       "      <td>3848</td>\n",
       "      <td>23</td>\n",
       "      <td>3.0</td>\n",
       "      <td>49.646030</td>\n",
       "      <td>33.893825</td>\n",
       "      <td>6.0</td>\n",
       "      <td>2</td>\n",
       "      <td>2.0</td>\n",
       "      <td>1965</td>\n",
       "      <td>0.014073</td>\n",
       "      <td>...</td>\n",
       "      <td>0</td>\n",
       "      <td>1</td>\n",
       "      <td>0</td>\n",
       "      <td>0</td>\n",
       "      <td>0</td>\n",
       "      <td>0</td>\n",
       "      <td>372.0</td>\n",
       "      <td>0</td>\n",
       "      <td>1</td>\n",
       "      <td>172778.615365</td>\n",
       "    </tr>\n",
       "    <tr>\n",
       "      <th>4</th>\n",
       "      <td>746</td>\n",
       "      <td>74</td>\n",
       "      <td>1.0</td>\n",
       "      <td>53.837056</td>\n",
       "      <td>52.837056</td>\n",
       "      <td>4.0</td>\n",
       "      <td>8</td>\n",
       "      <td>17.0</td>\n",
       "      <td>1977</td>\n",
       "      <td>0.309479</td>\n",
       "      <td>...</td>\n",
       "      <td>6</td>\n",
       "      <td>1</td>\n",
       "      <td>0</td>\n",
       "      <td>1</td>\n",
       "      <td>0</td>\n",
       "      <td>0</td>\n",
       "      <td>65.0</td>\n",
       "      <td>0</td>\n",
       "      <td>0</td>\n",
       "      <td>164116.183543</td>\n",
       "    </tr>\n",
       "    <tr>\n",
       "      <th>...</th>\n",
       "      <td>...</td>\n",
       "      <td>...</td>\n",
       "      <td>...</td>\n",
       "      <td>...</td>\n",
       "      <td>...</td>\n",
       "      <td>...</td>\n",
       "      <td>...</td>\n",
       "      <td>...</td>\n",
       "      <td>...</td>\n",
       "      <td>...</td>\n",
       "      <td>...</td>\n",
       "      <td>...</td>\n",
       "      <td>...</td>\n",
       "      <td>...</td>\n",
       "      <td>...</td>\n",
       "      <td>...</td>\n",
       "      <td>...</td>\n",
       "      <td>...</td>\n",
       "      <td>...</td>\n",
       "      <td>...</td>\n",
       "      <td>...</td>\n",
       "    </tr>\n",
       "    <tr>\n",
       "      <th>4995</th>\n",
       "      <td>10379</td>\n",
       "      <td>29</td>\n",
       "      <td>2.0</td>\n",
       "      <td>43.177521</td>\n",
       "      <td>30.339945</td>\n",
       "      <td>5.0</td>\n",
       "      <td>5</td>\n",
       "      <td>5.0</td>\n",
       "      <td>1962</td>\n",
       "      <td>0.069660</td>\n",
       "      <td>...</td>\n",
       "      <td>2</td>\n",
       "      <td>1</td>\n",
       "      <td>0</td>\n",
       "      <td>0</td>\n",
       "      <td>1</td>\n",
       "      <td>0</td>\n",
       "      <td>56.0</td>\n",
       "      <td>0</td>\n",
       "      <td>0</td>\n",
       "      <td>183575.963167</td>\n",
       "    </tr>\n",
       "    <tr>\n",
       "      <th>4996</th>\n",
       "      <td>16138</td>\n",
       "      <td>38</td>\n",
       "      <td>3.0</td>\n",
       "      <td>93.698122</td>\n",
       "      <td>94.521465</td>\n",
       "      <td>10.0</td>\n",
       "      <td>21</td>\n",
       "      <td>27.0</td>\n",
       "      <td>2018</td>\n",
       "      <td>0.060753</td>\n",
       "      <td>...</td>\n",
       "      <td>7</td>\n",
       "      <td>1</td>\n",
       "      <td>0</td>\n",
       "      <td>0</td>\n",
       "      <td>0</td>\n",
       "      <td>0</td>\n",
       "      <td>26.0</td>\n",
       "      <td>0</td>\n",
       "      <td>0</td>\n",
       "      <td>425037.641820</td>\n",
       "    </tr>\n",
       "    <tr>\n",
       "      <th>4997</th>\n",
       "      <td>3912</td>\n",
       "      <td>101</td>\n",
       "      <td>1.0</td>\n",
       "      <td>33.656723</td>\n",
       "      <td>19.003259</td>\n",
       "      <td>5.0</td>\n",
       "      <td>2</td>\n",
       "      <td>5.0</td>\n",
       "      <td>1966</td>\n",
       "      <td>0.038693</td>\n",
       "      <td>...</td>\n",
       "      <td>5</td>\n",
       "      <td>1</td>\n",
       "      <td>0</td>\n",
       "      <td>0</td>\n",
       "      <td>0</td>\n",
       "      <td>0</td>\n",
       "      <td>54.0</td>\n",
       "      <td>0</td>\n",
       "      <td>0</td>\n",
       "      <td>156266.487610</td>\n",
       "    </tr>\n",
       "    <tr>\n",
       "      <th>4998</th>\n",
       "      <td>5722</td>\n",
       "      <td>10</td>\n",
       "      <td>1.0</td>\n",
       "      <td>38.635155</td>\n",
       "      <td>20.976257</td>\n",
       "      <td>9.0</td>\n",
       "      <td>8</td>\n",
       "      <td>14.0</td>\n",
       "      <td>1970</td>\n",
       "      <td>0.089040</td>\n",
       "      <td>...</td>\n",
       "      <td>11</td>\n",
       "      <td>1</td>\n",
       "      <td>0</td>\n",
       "      <td>0</td>\n",
       "      <td>0</td>\n",
       "      <td>0</td>\n",
       "      <td>40.0</td>\n",
       "      <td>0</td>\n",
       "      <td>0</td>\n",
       "      <td>185704.766694</td>\n",
       "    </tr>\n",
       "    <tr>\n",
       "      <th>4999</th>\n",
       "      <td>11004</td>\n",
       "      <td>21</td>\n",
       "      <td>2.0</td>\n",
       "      <td>67.122742</td>\n",
       "      <td>33.944344</td>\n",
       "      <td>13.0</td>\n",
       "      <td>9</td>\n",
       "      <td>17.0</td>\n",
       "      <td>2009</td>\n",
       "      <td>0.194489</td>\n",
       "      <td>...</td>\n",
       "      <td>5</td>\n",
       "      <td>1</td>\n",
       "      <td>0</td>\n",
       "      <td>0</td>\n",
       "      <td>0</td>\n",
       "      <td>0</td>\n",
       "      <td>117.0</td>\n",
       "      <td>0</td>\n",
       "      <td>1</td>\n",
       "      <td>182602.286983</td>\n",
       "    </tr>\n",
       "  </tbody>\n",
       "</table>\n",
       "<p>5000 rows × 26 columns</p>\n",
       "</div>"
      ],
      "text/plain": [
       "         Id  DistrictId  Rooms     Square  LifeSquare  KitchenSquare  Floor  \\\n",
       "0      4567          44    1.0  36.847630   19.094182            5.0      5   \n",
       "1      5925          62    1.0  42.493907   42.568133           10.0      7   \n",
       "2       960          27    2.0  59.463678   50.463678            9.0     19   \n",
       "3      3848          23    3.0  49.646030   33.893825            6.0      2   \n",
       "4       746          74    1.0  53.837056   52.837056            4.0      8   \n",
       "...     ...         ...    ...        ...         ...            ...    ...   \n",
       "4995  10379          29    2.0  43.177521   30.339945            5.0      5   \n",
       "4996  16138          38    3.0  93.698122   94.521465           10.0     21   \n",
       "4997   3912         101    1.0  33.656723   19.003259            5.0      2   \n",
       "4998   5722          10    1.0  38.635155   20.976257            9.0      8   \n",
       "4999  11004          21    2.0  67.122742   33.944344           13.0      9   \n",
       "\n",
       "      HouseFloor  HouseYear  Ecology_1  ...  Shops_1  Shops_2  Rooms_outlier  \\\n",
       "0            9.0       1970   0.036122  ...        1        1              0   \n",
       "1           17.0       2017   0.072158  ...        0        0              0   \n",
       "2           19.0       1977   0.211401  ...        1        1              0   \n",
       "3            2.0       1965   0.014073  ...        0        1              0   \n",
       "4           17.0       1977   0.309479  ...        6        1              0   \n",
       "...          ...        ...        ...  ...      ...      ...            ...   \n",
       "4995         5.0       1962   0.069660  ...        2        1              0   \n",
       "4996        27.0       2018   0.060753  ...        7        1              0   \n",
       "4997         5.0       1966   0.038693  ...        5        1              0   \n",
       "4998        14.0       1970   0.089040  ...       11        1              0   \n",
       "4999        17.0       2009   0.194489  ...        5        1              0   \n",
       "\n",
       "      LifeSquare_nan  HouseFloor_outlier  HouseYear_outlier  DistrictSize  \\\n",
       "0                  0                   0                  0          76.0   \n",
       "1                  0                   0                  0         164.0   \n",
       "2                  1                   0                  0         580.0   \n",
       "3                  0                   0                  0         372.0   \n",
       "4                  1                   0                  0          65.0   \n",
       "...              ...                 ...                ...           ...   \n",
       "4995               0                   1                  0          56.0   \n",
       "4996               0                   0                  0          26.0   \n",
       "4997               0                   0                  0          54.0   \n",
       "4998               0                   0                  0          40.0   \n",
       "4999               0                   0                  0         117.0   \n",
       "\n",
       "      new_district  IsDistrictLarge  MedianPriceByDistrict  \n",
       "0                0                0          171145.169069  \n",
       "1                0                1          131107.271962  \n",
       "2                0                1          165993.292450  \n",
       "3                0                1          172778.615365  \n",
       "4                0                0          164116.183543  \n",
       "...            ...              ...                    ...  \n",
       "4995             0                0          183575.963167  \n",
       "4996             0                0          425037.641820  \n",
       "4997             0                0          156266.487610  \n",
       "4998             0                0          185704.766694  \n",
       "4999             0                1          182602.286983  \n",
       "\n",
       "[5000 rows x 26 columns]"
      ]
     },
     "execution_count": 62,
     "metadata": {},
     "output_type": "execute_result"
    }
   ],
   "source": [
    "test_df"
   ]
  },
  {
   "cell_type": "code",
   "execution_count": 63,
   "id": "88004e81",
   "metadata": {
    "execution": {
     "iopub.execute_input": "2021-11-02T18:58:43.109825Z",
     "iopub.status.busy": "2021-11-02T18:58:43.109103Z",
     "iopub.status.idle": "2021-11-02T18:58:43.131713Z",
     "shell.execute_reply": "2021-11-02T18:58:43.130977Z"
    },
    "papermill": {
     "duration": 0.142304,
     "end_time": "2021-11-02T18:58:43.131898",
     "exception": false,
     "start_time": "2021-11-02T18:58:42.989594",
     "status": "completed"
    },
    "tags": []
   },
   "outputs": [
    {
     "data": {
      "text/html": [
       "<div>\n",
       "<style scoped>\n",
       "    .dataframe tbody tr th:only-of-type {\n",
       "        vertical-align: middle;\n",
       "    }\n",
       "\n",
       "    .dataframe tbody tr th {\n",
       "        vertical-align: top;\n",
       "    }\n",
       "\n",
       "    .dataframe thead th {\n",
       "        text-align: right;\n",
       "    }\n",
       "</style>\n",
       "<table border=\"1\" class=\"dataframe\">\n",
       "  <thead>\n",
       "    <tr style=\"text-align: right;\">\n",
       "      <th></th>\n",
       "      <th>Id</th>\n",
       "      <th>Price</th>\n",
       "    </tr>\n",
       "  </thead>\n",
       "  <tbody>\n",
       "    <tr>\n",
       "      <th>0</th>\n",
       "      <td>4567</td>\n",
       "      <td>200000.0</td>\n",
       "    </tr>\n",
       "    <tr>\n",
       "      <th>1</th>\n",
       "      <td>5925</td>\n",
       "      <td>200000.0</td>\n",
       "    </tr>\n",
       "    <tr>\n",
       "      <th>2</th>\n",
       "      <td>960</td>\n",
       "      <td>200000.0</td>\n",
       "    </tr>\n",
       "    <tr>\n",
       "      <th>3</th>\n",
       "      <td>3848</td>\n",
       "      <td>200000.0</td>\n",
       "    </tr>\n",
       "    <tr>\n",
       "      <th>4</th>\n",
       "      <td>746</td>\n",
       "      <td>200000.0</td>\n",
       "    </tr>\n",
       "  </tbody>\n",
       "</table>\n",
       "</div>"
      ],
      "text/plain": [
       "     Id     Price\n",
       "0  4567  200000.0\n",
       "1  5925  200000.0\n",
       "2   960  200000.0\n",
       "3  3848  200000.0\n",
       "4   746  200000.0"
      ]
     },
     "execution_count": 63,
     "metadata": {},
     "output_type": "execute_result"
    }
   ],
   "source": [
    "submit = pd.read_csv('./dataset-real-estate-price-prediction-moscow/sample_submission.csv')\n",
    "submit.head()"
   ]
  },
  {
   "cell_type": "code",
   "execution_count": 64,
   "id": "598e3889",
   "metadata": {
    "execution": {
     "iopub.execute_input": "2021-11-02T18:58:43.366604Z",
     "iopub.status.busy": "2021-11-02T18:58:43.365882Z",
     "iopub.status.idle": "2021-11-02T18:58:43.501493Z",
     "shell.execute_reply": "2021-11-02T18:58:43.500682Z"
    },
    "papermill": {
     "duration": 0.256195,
     "end_time": "2021-11-02T18:58:43.501628",
     "exception": false,
     "start_time": "2021-11-02T18:58:43.245433",
     "status": "completed"
    },
    "tags": []
   },
   "outputs": [
    {
     "data": {
      "text/plain": [
       "array([165265.81620863, 117873.55121871, 140626.89099545, ...,\n",
       "       147242.38648809, 190307.6262521 , 274791.25071544])"
      ]
     },
     "execution_count": 64,
     "metadata": {},
     "output_type": "execute_result"
    }
   ],
   "source": [
    "predictions = rf_model.predict(test_df)\n",
    "predictions"
   ]
  },
  {
   "cell_type": "code",
   "execution_count": 65,
   "id": "36123b8b",
   "metadata": {
    "execution": {
     "iopub.execute_input": "2021-11-02T18:58:43.735865Z",
     "iopub.status.busy": "2021-11-02T18:58:43.735115Z",
     "iopub.status.idle": "2021-11-02T18:58:43.740245Z",
     "shell.execute_reply": "2021-11-02T18:58:43.739500Z"
    },
    "papermill": {
     "duration": 0.126771,
     "end_time": "2021-11-02T18:58:43.740378",
     "exception": false,
     "start_time": "2021-11-02T18:58:43.613607",
     "status": "completed"
    },
    "tags": []
   },
   "outputs": [
    {
     "data": {
      "text/html": [
       "<div>\n",
       "<style scoped>\n",
       "    .dataframe tbody tr th:only-of-type {\n",
       "        vertical-align: middle;\n",
       "    }\n",
       "\n",
       "    .dataframe tbody tr th {\n",
       "        vertical-align: top;\n",
       "    }\n",
       "\n",
       "    .dataframe thead th {\n",
       "        text-align: right;\n",
       "    }\n",
       "</style>\n",
       "<table border=\"1\" class=\"dataframe\">\n",
       "  <thead>\n",
       "    <tr style=\"text-align: right;\">\n",
       "      <th></th>\n",
       "      <th>Id</th>\n",
       "      <th>Price</th>\n",
       "    </tr>\n",
       "  </thead>\n",
       "  <tbody>\n",
       "    <tr>\n",
       "      <th>0</th>\n",
       "      <td>4567</td>\n",
       "      <td>165265.816209</td>\n",
       "    </tr>\n",
       "    <tr>\n",
       "      <th>1</th>\n",
       "      <td>5925</td>\n",
       "      <td>117873.551219</td>\n",
       "    </tr>\n",
       "    <tr>\n",
       "      <th>2</th>\n",
       "      <td>960</td>\n",
       "      <td>140626.890995</td>\n",
       "    </tr>\n",
       "    <tr>\n",
       "      <th>3</th>\n",
       "      <td>3848</td>\n",
       "      <td>165775.107146</td>\n",
       "    </tr>\n",
       "    <tr>\n",
       "      <th>4</th>\n",
       "      <td>746</td>\n",
       "      <td>175470.101541</td>\n",
       "    </tr>\n",
       "  </tbody>\n",
       "</table>\n",
       "</div>"
      ],
      "text/plain": [
       "     Id          Price\n",
       "0  4567  165265.816209\n",
       "1  5925  117873.551219\n",
       "2   960  140626.890995\n",
       "3  3848  165775.107146\n",
       "4   746  175470.101541"
      ]
     },
     "execution_count": 65,
     "metadata": {},
     "output_type": "execute_result"
    }
   ],
   "source": [
    "submit['Price'] = predictions\n",
    "submit.head()"
   ]
  },
  {
   "cell_type": "code",
   "execution_count": 66,
   "id": "6345f5c4",
   "metadata": {
    "execution": {
     "iopub.execute_input": "2021-11-02T18:58:43.971294Z",
     "iopub.status.busy": "2021-11-02T18:58:43.970555Z",
     "iopub.status.idle": "2021-11-02T18:58:44.271135Z",
     "shell.execute_reply": "2021-11-02T18:58:44.270420Z"
    },
    "papermill": {
     "duration": 0.418232,
     "end_time": "2021-11-02T18:58:44.271301",
     "exception": false,
     "start_time": "2021-11-02T18:58:43.853069",
     "status": "completed"
    },
    "tags": []
   },
   "outputs": [],
   "source": [
    "submit.to_csv('rf_submit.csv', index=False)"
   ]
  },
  {
   "cell_type": "code",
   "execution_count": null,
   "id": "87116516",
   "metadata": {},
   "outputs": [],
   "source": []
  }
 ],
 "metadata": {
  "kernelspec": {
   "display_name": "Python 3 (ipykernel)",
   "language": "python",
   "name": "python3"
  },
  "language_info": {
   "codemirror_mode": {
    "name": "ipython",
    "version": 3
   },
   "file_extension": ".py",
   "mimetype": "text/x-python",
   "name": "python",
   "nbconvert_exporter": "python",
   "pygments_lexer": "ipython3",
   "version": "3.9.7"
  }
 },
 "nbformat": 4,
 "nbformat_minor": 5
}
